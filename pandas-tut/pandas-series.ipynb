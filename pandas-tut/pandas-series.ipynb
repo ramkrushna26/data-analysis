{
 "cells": [
  {
   "cell_type": "code",
   "execution_count": 1,
   "id": "78bfca70",
   "metadata": {},
   "outputs": [],
   "source": [
    "# Series"
   ]
  },
  {
   "cell_type": "code",
   "execution_count": 2,
   "id": "7447124c",
   "metadata": {},
   "outputs": [],
   "source": [
    "import pandas as pd"
   ]
  },
  {
   "cell_type": "code",
   "execution_count": 3,
   "id": "c718ef58",
   "metadata": {},
   "outputs": [],
   "source": [
    "ice_cream = ['Vanilla', 'Chocolate', 'Caramel Nuts', 'Butterscotch']"
   ]
  },
  {
   "cell_type": "code",
   "execution_count": 4,
   "id": "6ae73b95",
   "metadata": {},
   "outputs": [
    {
     "data": {
      "text/plain": [
       "0         Vanilla\n",
       "1       Chocolate\n",
       "2    Caramel Nuts\n",
       "3    Butterscotch\n",
       "dtype: object"
      ]
     },
     "execution_count": 4,
     "metadata": {},
     "output_type": "execute_result"
    }
   ],
   "source": [
    "pd.Series(ice_cream)"
   ]
  },
  {
   "cell_type": "code",
   "execution_count": 5,
   "id": "03616c99",
   "metadata": {},
   "outputs": [],
   "source": [
    "lottery = [2, 4, 6, 9, 12, 14, 18]"
   ]
  },
  {
   "cell_type": "code",
   "execution_count": 6,
   "id": "a274a150",
   "metadata": {},
   "outputs": [
    {
     "data": {
      "text/plain": [
       "0     2\n",
       "1     4\n",
       "2     6\n",
       "3     9\n",
       "4    12\n",
       "5    14\n",
       "6    18\n",
       "dtype: int64"
      ]
     },
     "execution_count": 6,
     "metadata": {},
     "output_type": "execute_result"
    }
   ],
   "source": [
    "pd.Series(lottery)"
   ]
  },
  {
   "cell_type": "code",
   "execution_count": 7,
   "id": "810a24e8",
   "metadata": {},
   "outputs": [],
   "source": [
    "registrations = [True, False, False, True, False]"
   ]
  },
  {
   "cell_type": "code",
   "execution_count": 8,
   "id": "f41fcbb6",
   "metadata": {},
   "outputs": [
    {
     "data": {
      "text/plain": [
       "0     True\n",
       "1    False\n",
       "2    False\n",
       "3     True\n",
       "4    False\n",
       "dtype: bool"
      ]
     },
     "execution_count": 8,
     "metadata": {},
     "output_type": "execute_result"
    }
   ],
   "source": [
    "pd.Series(registrations)"
   ]
  },
  {
   "cell_type": "code",
   "execution_count": 9,
   "id": "4709e55a",
   "metadata": {},
   "outputs": [],
   "source": [
    "sushi = {\n",
    "    \"Salmon\" : \"Orange\",\n",
    "    \"Tuna\" : \"Red\",\n",
    "    \"Eel\" : \"Brown\"\n",
    "}"
   ]
  },
  {
   "cell_type": "code",
   "execution_count": 10,
   "id": "b6932656",
   "metadata": {},
   "outputs": [
    {
     "data": {
      "text/plain": [
       "Salmon    Orange\n",
       "Tuna         Red\n",
       "Eel        Brown\n",
       "dtype: object"
      ]
     },
     "execution_count": 10,
     "metadata": {},
     "output_type": "execute_result"
    }
   ],
   "source": [
    "pd.Series(sushi)"
   ]
  },
  {
   "cell_type": "code",
   "execution_count": 11,
   "id": "64b03eac",
   "metadata": {},
   "outputs": [],
   "source": [
    "prices = pd.Series([1.5, 4.5, 2.5])"
   ]
  },
  {
   "cell_type": "code",
   "execution_count": 12,
   "id": "d4ea5f16",
   "metadata": {},
   "outputs": [
    {
     "data": {
      "text/plain": [
       "8.5"
      ]
     },
     "execution_count": 12,
     "metadata": {},
     "output_type": "execute_result"
    }
   ],
   "source": [
    "prices.sum()"
   ]
  },
  {
   "cell_type": "code",
   "execution_count": 13,
   "id": "57751ff6",
   "metadata": {},
   "outputs": [
    {
     "data": {
      "text/plain": [
       "16.875"
      ]
     },
     "execution_count": 13,
     "metadata": {},
     "output_type": "execute_result"
    }
   ],
   "source": [
    "prices.product()"
   ]
  },
  {
   "cell_type": "code",
   "execution_count": 14,
   "id": "5b597d1a",
   "metadata": {},
   "outputs": [
    {
     "data": {
      "text/plain": [
       "2.8333333333333335"
      ]
     },
     "execution_count": 14,
     "metadata": {},
     "output_type": "execute_result"
    }
   ],
   "source": [
    "prices.mean()"
   ]
  },
  {
   "cell_type": "code",
   "execution_count": 15,
   "id": "6c08fc86",
   "metadata": {},
   "outputs": [
    {
     "data": {
      "text/plain": [
       "2.5"
      ]
     },
     "execution_count": 15,
     "metadata": {},
     "output_type": "execute_result"
    }
   ],
   "source": [
    "prices.median()"
   ]
  },
  {
   "cell_type": "code",
   "execution_count": 16,
   "id": "2271bea9",
   "metadata": {},
   "outputs": [
    {
     "data": {
      "text/plain": [
       "3"
      ]
     },
     "execution_count": 16,
     "metadata": {},
     "output_type": "execute_result"
    }
   ],
   "source": [
    "prices.size"
   ]
  },
  {
   "cell_type": "code",
   "execution_count": 17,
   "id": "ab011194",
   "metadata": {},
   "outputs": [
    {
     "data": {
      "text/plain": [
       "True"
      ]
     },
     "execution_count": 17,
     "metadata": {},
     "output_type": "execute_result"
    }
   ],
   "source": [
    "prices.is_unique"
   ]
  },
  {
   "cell_type": "code",
   "execution_count": 18,
   "id": "5362ecb1",
   "metadata": {},
   "outputs": [
    {
     "data": {
      "text/plain": [
       "array([1.5, 4.5, 2.5])"
      ]
     },
     "execution_count": 18,
     "metadata": {},
     "output_type": "execute_result"
    }
   ],
   "source": [
    "prices.values"
   ]
  },
  {
   "cell_type": "code",
   "execution_count": 19,
   "id": "1248fbb0",
   "metadata": {},
   "outputs": [
    {
     "data": {
      "text/plain": [
       "numpy.ndarray"
      ]
     },
     "execution_count": 19,
     "metadata": {},
     "output_type": "execute_result"
    }
   ],
   "source": [
    "type(prices.values)"
   ]
  },
  {
   "cell_type": "code",
   "execution_count": 20,
   "id": "2823131f",
   "metadata": {},
   "outputs": [
    {
     "data": {
      "text/plain": [
       "RangeIndex(start=0, stop=3, step=1)"
      ]
     },
     "execution_count": 20,
     "metadata": {},
     "output_type": "execute_result"
    }
   ],
   "source": [
    "prices.index"
   ]
  },
  {
   "cell_type": "code",
   "execution_count": 21,
   "id": "bacbb2cd",
   "metadata": {},
   "outputs": [],
   "source": [
    "fruits = ['Apple', 'Orange', 'Strawberry', 'Banana', 'Pineapple']\n",
    "days = ['Mon', 'Tues', 'Wed', 'Thu', 'Fri']"
   ]
  },
  {
   "cell_type": "code",
   "execution_count": 22,
   "id": "4b01ebce",
   "metadata": {},
   "outputs": [
    {
     "data": {
      "text/plain": [
       "Mon          Apple\n",
       "Tues        Orange\n",
       "Wed     Strawberry\n",
       "Thu         Banana\n",
       "Fri      Pineapple\n",
       "dtype: object"
      ]
     },
     "execution_count": 22,
     "metadata": {},
     "output_type": "execute_result"
    }
   ],
   "source": [
    "pd.Series(data = fruits, index = days)"
   ]
  },
  {
   "cell_type": "code",
   "execution_count": 136,
   "id": "c4f9da8c",
   "metadata": {},
   "outputs": [],
   "source": [
    "stocks = pd.read_csv(\"Google_Stock_Price_Test.csv\").squeeze(\"columns\")"
   ]
  },
  {
   "cell_type": "code",
   "execution_count": 137,
   "id": "f503f17a",
   "metadata": {},
   "outputs": [
    {
     "data": {
      "text/html": [
       "<div>\n",
       "<style scoped>\n",
       "    .dataframe tbody tr th:only-of-type {\n",
       "        vertical-align: middle;\n",
       "    }\n",
       "\n",
       "    .dataframe tbody tr th {\n",
       "        vertical-align: top;\n",
       "    }\n",
       "\n",
       "    .dataframe thead th {\n",
       "        text-align: right;\n",
       "    }\n",
       "</style>\n",
       "<table border=\"1\" class=\"dataframe\">\n",
       "  <thead>\n",
       "    <tr style=\"text-align: right;\">\n",
       "      <th></th>\n",
       "      <th>Date</th>\n",
       "      <th>Open</th>\n",
       "      <th>High</th>\n",
       "      <th>Low</th>\n",
       "      <th>Close</th>\n",
       "      <th>Volume</th>\n",
       "    </tr>\n",
       "  </thead>\n",
       "  <tbody>\n",
       "    <tr>\n",
       "      <th>15</th>\n",
       "      <td>1/25/2017</td>\n",
       "      <td>829.62</td>\n",
       "      <td>835.77</td>\n",
       "      <td>825.06</td>\n",
       "      <td>835.67</td>\n",
       "      <td>1,494,500</td>\n",
       "    </tr>\n",
       "  </tbody>\n",
       "</table>\n",
       "</div>"
      ],
      "text/plain": [
       "         Date    Open    High     Low   Close     Volume\n",
       "15  1/25/2017  829.62  835.77  825.06  835.67  1,494,500"
      ]
     },
     "execution_count": 137,
     "metadata": {},
     "output_type": "execute_result"
    }
   ],
   "source": [
    "stocks.tail().head(1)"
   ]
  },
  {
   "cell_type": "code",
   "execution_count": 45,
   "id": "863391a2",
   "metadata": {},
   "outputs": [
    {
     "data": {
      "text/plain": [
       "20"
      ]
     },
     "execution_count": 45,
     "metadata": {},
     "output_type": "execute_result"
    }
   ],
   "source": [
    "len(stocks)"
   ]
  },
  {
   "cell_type": "code",
   "execution_count": 46,
   "id": "802da33d",
   "metadata": {},
   "outputs": [
    {
     "data": {
      "text/plain": [
       "pandas.core.frame.DataFrame"
      ]
     },
     "execution_count": 46,
     "metadata": {},
     "output_type": "execute_result"
    }
   ],
   "source": [
    "type(stocks)"
   ]
  },
  {
   "cell_type": "code",
   "execution_count": 48,
   "id": "6ae9ce0a",
   "metadata": {},
   "outputs": [],
   "source": [
    "#dir(stocks)"
   ]
  },
  {
   "cell_type": "code",
   "execution_count": 108,
   "id": "21064588",
   "metadata": {},
   "outputs": [
    {
     "data": {
      "text/plain": [
       "['1,073,000', '1,272,400', '1,335,200', '1,640,200', '1,657,300']"
      ]
     },
     "execution_count": 108,
     "metadata": {},
     "output_type": "execute_result"
    }
   ],
   "source": [
    "sorted(stocks.get(\"Volume\").head())"
   ]
  },
  {
   "cell_type": "code",
   "execution_count": 67,
   "id": "950c1de2",
   "metadata": {},
   "outputs": [
    {
     "data": {
      "text/plain": [
       "3246600"
      ]
     },
     "execution_count": 67,
     "metadata": {},
     "output_type": "execute_result"
    }
   ],
   "source": [
    "max([int(''.join(i.split(','))) for i in stocks.get(\"Volume\")])"
   ]
  },
  {
   "cell_type": "code",
   "execution_count": 70,
   "id": "64a5dd8c",
   "metadata": {},
   "outputs": [
    {
     "data": {
      "text/plain": [
       "'1,065,900'"
      ]
     },
     "execution_count": 70,
     "metadata": {},
     "output_type": "execute_result"
    }
   ],
   "source": [
    "min(stocks.get(\"Volume\"))"
   ]
  },
  {
   "cell_type": "code",
   "execution_count": 74,
   "id": "1af12cf1",
   "metadata": {},
   "outputs": [],
   "source": [
    "stocks.sort_values('Volume', ascending = False)"
   ]
  },
  {
   "cell_type": "code",
   "execution_count": 79,
   "id": "1617e54b",
   "metadata": {},
   "outputs": [],
   "source": [
    "stocks = pd.read_csv(\"Google_Stock_Price_Test.csv\", index_col = \"Date\")"
   ]
  },
  {
   "cell_type": "code",
   "execution_count": 81,
   "id": "f8977e61",
   "metadata": {},
   "outputs": [
    {
     "data": {
      "text/plain": [
       "True"
      ]
     },
     "execution_count": 81,
     "metadata": {},
     "output_type": "execute_result"
    }
   ],
   "source": [
    "\"car\" in \"racecar\""
   ]
  },
  {
   "cell_type": "code",
   "execution_count": 82,
   "id": "76f7e6a6",
   "metadata": {},
   "outputs": [
    {
     "data": {
      "text/plain": [
       "True"
      ]
     },
     "execution_count": 82,
     "metadata": {},
     "output_type": "execute_result"
    }
   ],
   "source": [
    "2 in [1, 2, 3]"
   ]
  },
  {
   "cell_type": "code",
   "execution_count": 97,
   "id": "6c84091c",
   "metadata": {},
   "outputs": [
    {
     "data": {
      "text/plain": [
       "RangeIndex(start=0, stop=20, step=1)"
      ]
     },
     "execution_count": 97,
     "metadata": {},
     "output_type": "execute_result"
    }
   ],
   "source": [
    "stocks.index"
   ]
  },
  {
   "cell_type": "code",
   "execution_count": 99,
   "id": "645c205a",
   "metadata": {},
   "outputs": [],
   "source": [
    "#stocks.values"
   ]
  },
  {
   "cell_type": "code",
   "execution_count": 117,
   "id": "7b930087",
   "metadata": {},
   "outputs": [
    {
     "data": {
      "text/plain": [
       "True"
      ]
     },
     "execution_count": 117,
     "metadata": {},
     "output_type": "execute_result"
    }
   ],
   "source": [
    "1 in stocks.index"
   ]
  },
  {
   "cell_type": "code",
   "execution_count": 180,
   "id": "ee2616ff",
   "metadata": {},
   "outputs": [],
   "source": [
    "stocks = pd.read_csv(\"Google_Stock_Price_Test.csv\", usecols = ['Volume']).squeeze(\"columns\")"
   ]
  },
  {
   "cell_type": "code",
   "execution_count": 181,
   "id": "49b98bbe",
   "metadata": {
    "scrolled": true
   },
   "outputs": [
    {
     "data": {
      "text/plain": [
       "0    1,657,300\n",
       "1    1,073,000\n",
       "2    1,335,200\n",
       "3    1,640,200\n",
       "4    1,272,400\n",
       "Name: Volume, dtype: object"
      ]
     },
     "execution_count": 181,
     "metadata": {},
     "output_type": "execute_result"
    }
   ],
   "source": [
    "stocks.head()"
   ]
  },
  {
   "cell_type": "code",
   "execution_count": 182,
   "id": "ae7102ab",
   "metadata": {},
   "outputs": [
    {
     "data": {
      "text/plain": [
       "'1,073,000'"
      ]
     },
     "execution_count": 182,
     "metadata": {},
     "output_type": "execute_result"
    }
   ],
   "source": [
    "stocks[1]"
   ]
  },
  {
   "cell_type": "code",
   "execution_count": 183,
   "id": "5e845728",
   "metadata": {},
   "outputs": [
    {
     "data": {
      "text/plain": [
       "1    1,073,000\n",
       "3    1,640,200\n",
       "Name: Volume, dtype: object"
      ]
     },
     "execution_count": 183,
     "metadata": {},
     "output_type": "execute_result"
    }
   ],
   "source": [
    "stocks[[1, 3]]"
   ]
  },
  {
   "cell_type": "code",
   "execution_count": 184,
   "id": "26605c0f",
   "metadata": {},
   "outputs": [
    {
     "data": {
      "text/plain": [
       "2    1,335,200\n",
       "3    1,640,200\n",
       "4    1,272,400\n",
       "Name: Volume, dtype: object"
      ]
     },
     "execution_count": 184,
     "metadata": {},
     "output_type": "execute_result"
    }
   ],
   "source": [
    "stocks[2:5]"
   ]
  },
  {
   "cell_type": "code",
   "execution_count": 189,
   "id": "1abd48dd",
   "metadata": {},
   "outputs": [],
   "source": [
    "stocks = pd.read_csv(\"Google_Stock_Price_Test.csv\", index_col = 'Volume', usecols = ['Volume', 'High']).squeeze(\"columns\")"
   ]
  },
  {
   "cell_type": "code",
   "execution_count": 187,
   "id": "eff81969",
   "metadata": {},
   "outputs": [
    {
     "data": {
      "text/plain": [
       "Volume\n",
       "1,657,300    789.63\n",
       "1,073,000    791.34\n",
       "1,335,200    794.48\n",
       "1,640,200    807.90\n",
       "1,272,400    809.97\n",
       "Name: High, dtype: float64"
      ]
     },
     "execution_count": 187,
     "metadata": {},
     "output_type": "execute_result"
    }
   ],
   "source": [
    "stocks.head()"
   ]
  },
  {
   "cell_type": "code",
   "execution_count": 192,
   "id": "e80087dc",
   "metadata": {},
   "outputs": [
    {
     "data": {
      "text/plain": [
       "789.63"
      ]
     },
     "execution_count": 192,
     "metadata": {},
     "output_type": "execute_result"
    }
   ],
   "source": [
    "stocks.get('1,657,300')"
   ]
  },
  {
   "cell_type": "code",
   "execution_count": 193,
   "id": "625f6918",
   "metadata": {},
   "outputs": [
    {
     "name": "stdout",
     "output_type": "stream",
     "text": [
      "None\n"
     ]
    }
   ],
   "source": [
    "print(stocks.get(2522))"
   ]
  },
  {
   "cell_type": "code",
   "execution_count": 194,
   "id": "fda1f90e",
   "metadata": {},
   "outputs": [
    {
     "name": "stdout",
     "output_type": "stream",
     "text": [
      "Not_Exist\n"
     ]
    }
   ],
   "source": [
    "print(bind.get(2522, 'Not_Exist'))"
   ]
  },
  {
   "cell_type": "code",
   "execution_count": 204,
   "id": "e6824571",
   "metadata": {},
   "outputs": [],
   "source": [
    "stocks = pd.read_csv(\"Google_Stock_Price.csv\", index_col = 'Volume', usecols = ['Volume', 'High']).squeeze(\"columns\")"
   ]
  },
  {
   "cell_type": "code",
   "execution_count": 205,
   "id": "ef4649dc",
   "metadata": {},
   "outputs": [
    {
     "data": {
      "text/plain": [
       "Volume\n",
       "44659096    52.082081\n",
       "Name: High, dtype: float64"
      ]
     },
     "execution_count": 205,
     "metadata": {},
     "output_type": "execute_result"
    }
   ],
   "source": [
    "stocks.head(1)"
   ]
  },
  {
   "cell_type": "code",
   "execution_count": 207,
   "id": "5705172d",
   "metadata": {},
   "outputs": [],
   "source": [
    "stocks[44659096] = 53"
   ]
  },
  {
   "cell_type": "code",
   "execution_count": 208,
   "id": "3f542d44",
   "metadata": {},
   "outputs": [
    {
     "data": {
      "text/plain": [
       "53.0"
      ]
     },
     "execution_count": 208,
     "metadata": {},
     "output_type": "execute_result"
    }
   ],
   "source": [
    "stocks[44659096]"
   ]
  },
  {
   "cell_type": "code",
   "execution_count": 209,
   "id": "89edf8b2",
   "metadata": {},
   "outputs": [
    {
     "data": {
      "text/plain": [
       "pandas.core.series.Series"
      ]
     },
     "execution_count": 209,
     "metadata": {},
     "output_type": "execute_result"
    }
   ],
   "source": [
    "type(stocks)"
   ]
  },
  {
   "cell_type": "code",
   "execution_count": 212,
   "id": "42689762",
   "metadata": {},
   "outputs": [],
   "source": [
    "stocks_df = pd.read_csv(\"Google_Stock_Price.csv\", index_col = 'Volume', usecols = ['Volume', 'High'])"
   ]
  },
  {
   "cell_type": "code",
   "execution_count": 213,
   "id": "994a8587",
   "metadata": {},
   "outputs": [],
   "source": [
    "stocks_series = stocks_df.squeeze(\"columns\")"
   ]
  },
  {
   "cell_type": "code",
   "execution_count": 217,
   "id": "500ac3bd",
   "metadata": {},
   "outputs": [
    {
     "data": {
      "text/plain": [
       "52.082081"
      ]
     },
     "execution_count": 217,
     "metadata": {},
     "output_type": "execute_result"
    }
   ],
   "source": [
    "stocks_series[44659096]"
   ]
  },
  {
   "cell_type": "code",
   "execution_count": 218,
   "id": "f69a61e5",
   "metadata": {},
   "outputs": [],
   "source": [
    "stocks_series[44659096] = 53"
   ]
  },
  {
   "cell_type": "code",
   "execution_count": 221,
   "id": "401993db",
   "metadata": {},
   "outputs": [
    {
     "data": {
      "text/html": [
       "<div>\n",
       "<style scoped>\n",
       "    .dataframe tbody tr th:only-of-type {\n",
       "        vertical-align: middle;\n",
       "    }\n",
       "\n",
       "    .dataframe tbody tr th {\n",
       "        vertical-align: top;\n",
       "    }\n",
       "\n",
       "    .dataframe thead th {\n",
       "        text-align: right;\n",
       "    }\n",
       "</style>\n",
       "<table border=\"1\" class=\"dataframe\">\n",
       "  <thead>\n",
       "    <tr style=\"text-align: right;\">\n",
       "      <th></th>\n",
       "      <th>High</th>\n",
       "    </tr>\n",
       "    <tr>\n",
       "      <th>Volume</th>\n",
       "      <th></th>\n",
       "    </tr>\n",
       "  </thead>\n",
       "  <tbody>\n",
       "    <tr>\n",
       "      <th>44659096</th>\n",
       "      <td>53.0</td>\n",
       "    </tr>\n",
       "  </tbody>\n",
       "</table>\n",
       "</div>"
      ],
      "text/plain": [
       "          High\n",
       "Volume        \n",
       "44659096  53.0"
      ]
     },
     "execution_count": 221,
     "metadata": {},
     "output_type": "execute_result"
    }
   ],
   "source": [
    "stocks_df.head(1)\n",
    "#Updating the series derived from dataframe is updating the underlying dataframe as well"
   ]
  },
  {
   "cell_type": "code",
   "execution_count": 222,
   "id": "9527f47d",
   "metadata": {},
   "outputs": [],
   "source": [
    "stocks_series = stocks_df.squeeze(\"columns\").copy()"
   ]
  },
  {
   "cell_type": "code",
   "execution_count": 223,
   "id": "8c3732d6",
   "metadata": {},
   "outputs": [
    {
     "data": {
      "text/plain": [
       "53.0"
      ]
     },
     "execution_count": 223,
     "metadata": {},
     "output_type": "execute_result"
    }
   ],
   "source": [
    "stocks_series[44659096]"
   ]
  },
  {
   "cell_type": "code",
   "execution_count": 224,
   "id": "dfeea570",
   "metadata": {},
   "outputs": [],
   "source": [
    "stocks_series[44659096] = 54"
   ]
  },
  {
   "cell_type": "code",
   "execution_count": 225,
   "id": "07d1aaf2",
   "metadata": {},
   "outputs": [
    {
     "data": {
      "text/html": [
       "<div>\n",
       "<style scoped>\n",
       "    .dataframe tbody tr th:only-of-type {\n",
       "        vertical-align: middle;\n",
       "    }\n",
       "\n",
       "    .dataframe tbody tr th {\n",
       "        vertical-align: top;\n",
       "    }\n",
       "\n",
       "    .dataframe thead th {\n",
       "        text-align: right;\n",
       "    }\n",
       "</style>\n",
       "<table border=\"1\" class=\"dataframe\">\n",
       "  <thead>\n",
       "    <tr style=\"text-align: right;\">\n",
       "      <th></th>\n",
       "      <th>High</th>\n",
       "    </tr>\n",
       "    <tr>\n",
       "      <th>Volume</th>\n",
       "      <th></th>\n",
       "    </tr>\n",
       "  </thead>\n",
       "  <tbody>\n",
       "    <tr>\n",
       "      <th>44659096</th>\n",
       "      <td>53.0</td>\n",
       "    </tr>\n",
       "  </tbody>\n",
       "</table>\n",
       "</div>"
      ],
      "text/plain": [
       "          High\n",
       "Volume        \n",
       "44659096  53.0"
      ]
     },
     "execution_count": 225,
     "metadata": {},
     "output_type": "execute_result"
    }
   ],
   "source": [
    "stocks_df.head(1)"
   ]
  },
  {
   "cell_type": "code",
   "execution_count": 226,
   "id": "023f7647",
   "metadata": {},
   "outputs": [
    {
     "data": {
      "text/plain": [
       "54.0"
      ]
     },
     "execution_count": 226,
     "metadata": {},
     "output_type": "execute_result"
    }
   ],
   "source": [
    "stocks_series[44659096]"
   ]
  },
  {
   "cell_type": "code",
   "execution_count": 234,
   "id": "725a09be",
   "metadata": {},
   "outputs": [],
   "source": [
    "googl = (\n",
    "    pd.read_csv(\"Google_Stock_Price.csv\", usecols = ['Volume'])\n",
    "    .squeeze(\"columns\")\n",
    "    .copy()\n",
    ")"
   ]
  },
  {
   "cell_type": "code",
   "execution_count": 235,
   "id": "2e4b9c85",
   "metadata": {},
   "outputs": [
    {
     "data": {
      "text/plain": [
       "0    44659096\n",
       "1    22834343\n",
       "Name: Volume, dtype: int64"
      ]
     },
     "execution_count": 235,
     "metadata": {},
     "output_type": "execute_result"
    }
   ],
   "source": [
    "googl.head(2)"
   ]
  },
  {
   "cell_type": "code",
   "execution_count": 237,
   "id": "8b0e875e",
   "metadata": {},
   "outputs": [],
   "source": [
    "googl.sort_values(inplace = True)"
   ]
  },
  {
   "cell_type": "code",
   "execution_count": 238,
   "id": "c82f7e65",
   "metadata": {},
   "outputs": [
    {
     "data": {
      "text/plain": [
       "4117    465600\n",
       "2858    520600\n",
       "Name: Volume, dtype: int64"
      ]
     },
     "execution_count": 238,
     "metadata": {},
     "output_type": "execute_result"
    }
   ],
   "source": [
    "googl.head(2)"
   ]
  },
  {
   "cell_type": "code",
   "execution_count": 242,
   "id": "f91f05fc",
   "metadata": {},
   "outputs": [],
   "source": [
    "volume = (\n",
    "    pd.read_csv(\"Google_Stock_Price.csv\", usecols = ['Volume'])\n",
    "    .squeeze(\"columns\")\n",
    "    .copy()\n",
    ")"
   ]
  },
  {
   "cell_type": "code",
   "execution_count": 244,
   "id": "1ebeb934",
   "metadata": {},
   "outputs": [
    {
     "data": {
      "text/plain": [
       "82151167"
      ]
     },
     "execution_count": 244,
     "metadata": {},
     "output_type": "execute_result"
    }
   ],
   "source": [
    "volume.max()"
   ]
  },
  {
   "cell_type": "code",
   "execution_count": 245,
   "id": "9578426b",
   "metadata": {},
   "outputs": [
    {
     "data": {
      "text/plain": [
       "465600"
      ]
     },
     "execution_count": 245,
     "metadata": {},
     "output_type": "execute_result"
    }
   ],
   "source": [
    "volume.min()"
   ]
  },
  {
   "cell_type": "code",
   "execution_count": 246,
   "id": "32f0dd71",
   "metadata": {},
   "outputs": [
    {
     "data": {
      "text/plain": [
       "3778418.0"
      ]
     },
     "execution_count": 246,
     "metadata": {},
     "output_type": "execute_result"
    }
   ],
   "source": [
    "volume.median()"
   ]
  },
  {
   "cell_type": "code",
   "execution_count": 247,
   "id": "6605af53",
   "metadata": {},
   "outputs": [
    {
     "data": {
      "text/plain": [
       "0    1529700\n",
       "1    1660500\n",
       "Name: Volume, dtype: int64"
      ]
     },
     "execution_count": 247,
     "metadata": {},
     "output_type": "execute_result"
    }
   ],
   "source": [
    "volume.mode()"
   ]
  },
  {
   "cell_type": "code",
   "execution_count": 248,
   "id": "13ab7bdb",
   "metadata": {},
   "outputs": [
    {
     "data": {
      "text/plain": [
       "count    4.431000e+03\n",
       "mean     6.444992e+06\n",
       "std      7.690351e+06\n",
       "min      4.656000e+05\n",
       "25%      1.695600e+06\n",
       "50%      3.778418e+06\n",
       "75%      8.002390e+06\n",
       "max      8.215117e+07\n",
       "Name: Volume, dtype: float64"
      ]
     },
     "execution_count": 248,
     "metadata": {},
     "output_type": "execute_result"
    }
   ],
   "source": [
    "volume.describe()"
   ]
  },
  {
   "cell_type": "code",
   "execution_count": 249,
   "id": "9cb599f8",
   "metadata": {},
   "outputs": [
    {
     "data": {
      "text/plain": [
       "0    44659096\n",
       "1    22834343\n",
       "Name: Volume, dtype: int64"
      ]
     },
     "execution_count": 249,
     "metadata": {},
     "output_type": "execute_result"
    }
   ],
   "source": [
    "volume.head(2)"
   ]
  },
  {
   "cell_type": "code",
   "execution_count": 255,
   "id": "7e6f635f",
   "metadata": {},
   "outputs": [
    {
     "data": {
      "text/plain": [
       "0    44659097\n",
       "1    22834344\n",
       "2    18256127\n",
       "3    15247338\n",
       "4     9188603\n",
       "Name: Volume, dtype: int64"
      ]
     },
     "execution_count": 255,
     "metadata": {},
     "output_type": "execute_result"
    }
   ],
   "source": [
    "#broadcasting\n",
    "volume.head() - 100\n",
    "volume.head() + 1"
   ]
  },
  {
   "cell_type": "code",
   "execution_count": 262,
   "id": "99fd194f",
   "metadata": {},
   "outputs": [
    {
     "data": {
      "text/plain": [
       "1660500    3\n",
       "1529700    3\n",
       "3346850    2\n",
       "9680310    2\n",
       "3865531    2\n",
       "Name: Volume, dtype: int64"
      ]
     },
     "execution_count": 262,
     "metadata": {},
     "output_type": "execute_result"
    }
   ],
   "source": [
    "volume.value_counts(ascending = False).head()"
   ]
  },
  {
   "cell_type": "code",
   "execution_count": 265,
   "id": "370ddf63",
   "metadata": {},
   "outputs": [
    {
     "data": {
      "text/plain": [
       "1660500    0.067705\n",
       "1529700    0.067705\n",
       "3346850    0.045137\n",
       "9680310    0.045137\n",
       "3865531    0.045137\n",
       "Name: Volume, dtype: float64"
      ]
     },
     "execution_count": 265,
     "metadata": {},
     "output_type": "execute_result"
    }
   ],
   "source": [
    "volume.value_counts(normalize = True).head() * 100"
   ]
  },
  {
   "cell_type": "code",
   "execution_count": 266,
   "id": "0268603d",
   "metadata": {},
   "outputs": [],
   "source": [
    "stocks = (\n",
    "    pd.read_csv(\"Google_Stock_Price.csv\", usecols = ['Volume'])\n",
    "    .squeeze(\"columns\")\n",
    ")"
   ]
  },
  {
   "cell_type": "code",
   "execution_count": 268,
   "id": "c9f20747",
   "metadata": {},
   "outputs": [
    {
     "data": {
      "text/plain": [
       "0    44659096\n",
       "1    22834343\n",
       "2    18256126\n",
       "3    15247337\n",
       "4     9188602\n",
       "Name: Volume, dtype: int64"
      ]
     },
     "execution_count": 268,
     "metadata": {},
     "output_type": "execute_result"
    }
   ],
   "source": [
    "stocks.head()"
   ]
  },
  {
   "cell_type": "code",
   "execution_count": 273,
   "id": "d1a69ebc",
   "metadata": {},
   "outputs": [
    {
     "data": {
      "text/plain": [
       "0    8\n",
       "1    8\n",
       "2    8\n",
       "3    8\n",
       "4    7\n",
       "Name: Volume, dtype: int64"
      ]
     },
     "execution_count": 273,
     "metadata": {},
     "output_type": "execute_result"
    }
   ],
   "source": [
    "stocks.apply(str).head().apply(len)"
   ]
  },
  {
   "cell_type": "code",
   "execution_count": 278,
   "id": "e67fb5bc",
   "metadata": {},
   "outputs": [],
   "source": [
    "def volume_desc(volume_):\n",
    "    if volume_ > 10000000:\n",
    "        return \"High\"\n",
    "    elif volume_ < 1000000:\n",
    "        return \"Low\"\n",
    "    else:\n",
    "        return \"Medium\""
   ]
  },
  {
   "cell_type": "code",
   "execution_count": 281,
   "id": "5802ce19",
   "metadata": {},
   "outputs": [
    {
     "data": {
      "text/plain": [
       "0    44659096\n",
       "1    22834343\n",
       "2    18256126\n",
       "3    15247337\n",
       "4     9188602\n",
       "Name: Volume, dtype: int64"
      ]
     },
     "execution_count": 281,
     "metadata": {},
     "output_type": "execute_result"
    }
   ],
   "source": [
    "stocks.head()"
   ]
  },
  {
   "cell_type": "code",
   "execution_count": 282,
   "id": "6c8bc018",
   "metadata": {},
   "outputs": [
    {
     "data": {
      "text/plain": [
       "0      High\n",
       "1      High\n",
       "2      High\n",
       "3      High\n",
       "4    Medium\n",
       "Name: Volume, dtype: object"
      ]
     },
     "execution_count": 282,
     "metadata": {},
     "output_type": "execute_result"
    }
   ],
   "source": [
    "stocks.apply(volume_desc).head()"
   ]
  },
  {
   "cell_type": "code",
   "execution_count": 287,
   "id": "5edc6d14",
   "metadata": {},
   "outputs": [],
   "source": [
    "mappings = {\n",
    "    44659096: \"High\",\n",
    "    22834343: \"High\",\n",
    "    9188602: \"Low\"\n",
    "}"
   ]
  },
  {
   "cell_type": "code",
   "execution_count": 289,
   "id": "a7681876",
   "metadata": {},
   "outputs": [
    {
     "data": {
      "text/plain": [
       "0    High\n",
       "1    High\n",
       "2     NaN\n",
       "3     NaN\n",
       "4     Low\n",
       "Name: Volume, dtype: object"
      ]
     },
     "execution_count": 289,
     "metadata": {},
     "output_type": "execute_result"
    }
   ],
   "source": [
    "stocks.map(mappings).head()"
   ]
  },
  {
   "cell_type": "code",
   "execution_count": 290,
   "id": "ac6cac33",
   "metadata": {},
   "outputs": [],
   "source": [
    "mappings_series = pd.Series(mappings)"
   ]
  },
  {
   "cell_type": "code",
   "execution_count": 292,
   "id": "65d8d78c",
   "metadata": {},
   "outputs": [
    {
     "data": {
      "text/plain": [
       "0    High\n",
       "1    High\n",
       "2     NaN\n",
       "3     NaN\n",
       "4     Low\n",
       "Name: Volume, dtype: object"
      ]
     },
     "execution_count": 292,
     "metadata": {},
     "output_type": "execute_result"
    }
   ],
   "source": [
    "stocks.map(mappings_series).head()"
   ]
  },
  {
   "cell_type": "code",
   "execution_count": null,
   "id": "2d4bdd8f",
   "metadata": {},
   "outputs": [],
   "source": []
  }
 ],
 "metadata": {
  "kernelspec": {
   "display_name": "Python 3 (ipykernel)",
   "language": "python",
   "name": "python3"
  },
  "language_info": {
   "codemirror_mode": {
    "name": "ipython",
    "version": 3
   },
   "file_extension": ".py",
   "mimetype": "text/x-python",
   "name": "python",
   "nbconvert_exporter": "python",
   "pygments_lexer": "ipython3",
   "version": "3.10.6"
  }
 },
 "nbformat": 4,
 "nbformat_minor": 5
}
