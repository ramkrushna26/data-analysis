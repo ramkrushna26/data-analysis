{
 "cells": [
  {
   "cell_type": "code",
   "execution_count": 2,
   "id": "59adcfcd",
   "metadata": {},
   "outputs": [],
   "source": [
    "import numpy as np"
   ]
  },
  {
   "cell_type": "code",
   "execution_count": 81,
   "id": "46798a6f",
   "metadata": {},
   "outputs": [],
   "source": [
    "B = np.array([[1,-1,1,3],[2,1,8,18],[4,2,-3,-2]])"
   ]
  },
  {
   "cell_type": "code",
   "execution_count": 82,
   "id": "7fc09c56",
   "metadata": {},
   "outputs": [],
   "source": [
    "A = np.copy(B).astype('float64')"
   ]
  },
  {
   "cell_type": "code",
   "execution_count": 83,
   "id": "b2903bfa",
   "metadata": {},
   "outputs": [
    {
     "data": {
      "text/plain": [
       "array([[ 1., -1.,  1.,  3.],\n",
       "       [ 2.,  1.,  8., 18.],\n",
       "       [ 4.,  2., -3., -2.]])"
      ]
     },
     "execution_count": 83,
     "metadata": {},
     "output_type": "execute_result"
    }
   ],
   "source": [
    "A"
   ]
  },
  {
   "cell_type": "code",
   "execution_count": 72,
   "id": "a01d7854",
   "metadata": {},
   "outputs": [],
   "source": [
    "m = A.shape[0]"
   ]
  },
  {
   "cell_type": "code",
   "execution_count": 73,
   "id": "4d0175b5",
   "metadata": {},
   "outputs": [],
   "source": [
    "n = A.shape[1]"
   ]
  },
  {
   "cell_type": "code",
   "execution_count": 74,
   "id": "61c10f9d",
   "metadata": {},
   "outputs": [
    {
     "data": {
      "text/plain": [
       "(3, 4)"
      ]
     },
     "execution_count": 74,
     "metadata": {},
     "output_type": "execute_result"
    }
   ],
   "source": [
    "m, n"
   ]
  },
  {
   "cell_type": "code",
   "execution_count": 84,
   "id": "fa7ab05d",
   "metadata": {},
   "outputs": [
    {
     "data": {
      "text/plain": [
       "array([[ 1., -1.,  1.,  3.],\n",
       "       [ 2.,  1.,  8., 18.],\n",
       "       [ 4.,  2., -3., -2.]])"
      ]
     },
     "execution_count": 84,
     "metadata": {},
     "output_type": "execute_result"
    }
   ],
   "source": [
    "A"
   ]
  },
  {
   "cell_type": "code",
   "execution_count": 54,
   "id": "ccba50bf",
   "metadata": {},
   "outputs": [],
   "source": [
    "#Multiply 1st with 2 and subtract it from 2nd"
   ]
  },
  {
   "cell_type": "code",
   "execution_count": 85,
   "id": "3b44c3db",
   "metadata": {},
   "outputs": [],
   "source": [
    "for i in range(n):\n",
    "    A[1][i] -= A[0][i]*2 "
   ]
  },
  {
   "cell_type": "code",
   "execution_count": 86,
   "id": "16a496e9",
   "metadata": {},
   "outputs": [
    {
     "data": {
      "text/plain": [
       "array([[ 1., -1.,  1.,  3.],\n",
       "       [ 0.,  3.,  6., 12.],\n",
       "       [ 4.,  2., -3., -2.]])"
      ]
     },
     "execution_count": 86,
     "metadata": {},
     "output_type": "execute_result"
    }
   ],
   "source": [
    "A"
   ]
  },
  {
   "cell_type": "code",
   "execution_count": 47,
   "id": "d260e9ef",
   "metadata": {},
   "outputs": [],
   "source": [
    "#multiply 1st row with 4 and subtract it from 3rd"
   ]
  },
  {
   "cell_type": "code",
   "execution_count": 87,
   "id": "f136086d",
   "metadata": {},
   "outputs": [],
   "source": [
    "for i in range(n):\n",
    "    A[2][i] -= A[0][i]*4 "
   ]
  },
  {
   "cell_type": "code",
   "execution_count": 88,
   "id": "a5d66d94",
   "metadata": {},
   "outputs": [
    {
     "data": {
      "text/plain": [
       "array([[  1.,  -1.,   1.,   3.],\n",
       "       [  0.,   3.,   6.,  12.],\n",
       "       [  0.,   6.,  -7., -14.]])"
      ]
     },
     "execution_count": 88,
     "metadata": {},
     "output_type": "execute_result"
    }
   ],
   "source": [
    "A"
   ]
  },
  {
   "cell_type": "code",
   "execution_count": null,
   "id": "60d6edd8",
   "metadata": {},
   "outputs": [],
   "source": [
    "#multiply 2st row with 2 and subtract it from 3rd"
   ]
  },
  {
   "cell_type": "code",
   "execution_count": 89,
   "id": "e5463226",
   "metadata": {},
   "outputs": [],
   "source": [
    "for i in range(n):\n",
    "    A[2][i] -= A[1][i]*2"
   ]
  },
  {
   "cell_type": "code",
   "execution_count": 90,
   "id": "aac3c906",
   "metadata": {},
   "outputs": [
    {
     "data": {
      "text/plain": [
       "array([[  1.,  -1.,   1.,   3.],\n",
       "       [  0.,   3.,   6.,  12.],\n",
       "       [  0.,   0., -19., -38.]])"
      ]
     },
     "execution_count": 90,
     "metadata": {},
     "output_type": "execute_result"
    }
   ],
   "source": [
    "A"
   ]
  },
  {
   "cell_type": "code",
   "execution_count": 91,
   "id": "d5594bba",
   "metadata": {},
   "outputs": [],
   "source": [
    "#multiply 2nd row with 1/3"
   ]
  },
  {
   "cell_type": "code",
   "execution_count": 92,
   "id": "842a5220",
   "metadata": {},
   "outputs": [],
   "source": [
    "for i in range(n):\n",
    "    A[1][i] *= 1/3"
   ]
  },
  {
   "cell_type": "code",
   "execution_count": 93,
   "id": "f69ca72b",
   "metadata": {},
   "outputs": [
    {
     "data": {
      "text/plain": [
       "array([[  1.,  -1.,   1.,   3.],\n",
       "       [  0.,   1.,   2.,   4.],\n",
       "       [  0.,   0., -19., -38.]])"
      ]
     },
     "execution_count": 93,
     "metadata": {},
     "output_type": "execute_result"
    }
   ],
   "source": [
    "A"
   ]
  },
  {
   "cell_type": "code",
   "execution_count": 94,
   "id": "6ed98e1c",
   "metadata": {},
   "outputs": [],
   "source": [
    "#multiply 3rd row with 1/19"
   ]
  },
  {
   "cell_type": "code",
   "execution_count": 95,
   "id": "05de4ef7",
   "metadata": {},
   "outputs": [],
   "source": [
    "for i in range(n):\n",
    "    A[2][i] *= 1/19"
   ]
  },
  {
   "cell_type": "code",
   "execution_count": 96,
   "id": "20917713",
   "metadata": {},
   "outputs": [
    {
     "data": {
      "text/plain": [
       "array([[ 1., -1.,  1.,  3.],\n",
       "       [ 0.,  1.,  2.,  4.],\n",
       "       [ 0.,  0., -1., -2.]])"
      ]
     },
     "execution_count": 96,
     "metadata": {},
     "output_type": "execute_result"
    }
   ],
   "source": [
    "A"
   ]
  },
  {
   "cell_type": "code",
   "execution_count": null,
   "id": "2e51b805",
   "metadata": {},
   "outputs": [],
   "source": []
  }
 ],
 "metadata": {
  "kernelspec": {
   "display_name": "Python 3 (ipykernel)",
   "language": "python",
   "name": "python3"
  },
  "language_info": {
   "codemirror_mode": {
    "name": "ipython",
    "version": 3
   },
   "file_extension": ".py",
   "mimetype": "text/x-python",
   "name": "python",
   "nbconvert_exporter": "python",
   "pygments_lexer": "ipython3",
   "version": "3.10.4"
  }
 },
 "nbformat": 4,
 "nbformat_minor": 5
}
