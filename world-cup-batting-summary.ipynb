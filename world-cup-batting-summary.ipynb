{
 "cells": [
  {
   "cell_type": "code",
   "execution_count": 1,
   "metadata": {},
   "outputs": [],
   "source": [
    "import pandas as pd\n",
    "import numpy as np\n",
    "import re"
   ]
  },
  {
   "cell_type": "code",
   "execution_count": 3,
   "metadata": {},
   "outputs": [],
   "source": [
    "df = pd.read_csv(\"../data/batting_summary.csv\")"
   ]
  },
  {
   "cell_type": "code",
   "execution_count": 5,
   "metadata": {},
   "outputs": [
    {
     "data": {
      "text/html": [
       "<div>\n",
       "<style scoped>\n",
       "    .dataframe tbody tr th:only-of-type {\n",
       "        vertical-align: middle;\n",
       "    }\n",
       "\n",
       "    .dataframe tbody tr th {\n",
       "        vertical-align: top;\n",
       "    }\n",
       "\n",
       "    .dataframe thead th {\n",
       "        text-align: right;\n",
       "    }\n",
       "</style>\n",
       "<table border=\"1\" class=\"dataframe\">\n",
       "  <thead>\n",
       "    <tr style=\"text-align: right;\">\n",
       "      <th></th>\n",
       "      <th>Match_no</th>\n",
       "      <th>Match_Between</th>\n",
       "      <th>Team_Innings</th>\n",
       "      <th>Batsman_Name</th>\n",
       "      <th>Batting_Position</th>\n",
       "      <th>Dismissal</th>\n",
       "      <th>Runs</th>\n",
       "      <th>Balls</th>\n",
       "      <th>4s</th>\n",
       "      <th>6s</th>\n",
       "      <th>Strike_Rate</th>\n",
       "    </tr>\n",
       "  </thead>\n",
       "  <tbody>\n",
       "    <tr>\n",
       "      <th>0</th>\n",
       "      <td>1</td>\n",
       "      <td>England vs New Zealand</td>\n",
       "      <td>England</td>\n",
       "      <td>Jonny Bairstow</td>\n",
       "      <td>1</td>\n",
       "      <td>c Daryl Mitchell b Mitchell Santner</td>\n",
       "      <td>33</td>\n",
       "      <td>35</td>\n",
       "      <td>4</td>\n",
       "      <td>1</td>\n",
       "      <td>94.300</td>\n",
       "    </tr>\n",
       "    <tr>\n",
       "      <th>1</th>\n",
       "      <td>1</td>\n",
       "      <td>England vs New Zealand</td>\n",
       "      <td>England</td>\n",
       "      <td>Dawid Malan</td>\n",
       "      <td>2</td>\n",
       "      <td>c Tom Latham b Matt Henry</td>\n",
       "      <td>14</td>\n",
       "      <td>24</td>\n",
       "      <td>2</td>\n",
       "      <td>0</td>\n",
       "      <td>58.300</td>\n",
       "    </tr>\n",
       "  </tbody>\n",
       "</table>\n",
       "</div>"
      ],
      "text/plain": [
       "   Match_no           Match_Between Team_Innings    Batsman_Name  \\\n",
       "0         1  England vs New Zealand      England  Jonny Bairstow   \n",
       "1         1  England vs New Zealand      England     Dawid Malan   \n",
       "\n",
       "   Batting_Position                            Dismissal  Runs  Balls  4s  6s  \\\n",
       "0                 1  c Daryl Mitchell b Mitchell Santner    33     35   4   1   \n",
       "1                 2            c Tom Latham b Matt Henry    14     24   2   0   \n",
       "\n",
       "  Strike_Rate  \n",
       "0      94.300  \n",
       "1      58.300  "
      ]
     },
     "execution_count": 5,
     "metadata": {},
     "output_type": "execute_result"
    }
   ],
   "source": [
    "df.head(2)"
   ]
  },
  {
   "cell_type": "code",
   "execution_count": 6,
   "metadata": {},
   "outputs": [],
   "source": [
    "# Handling Non-numeric case"
   ]
  },
  {
   "cell_type": "code",
   "execution_count": 7,
   "metadata": {},
   "outputs": [],
   "source": [
    "df[\"Strike_Rate\"] = pd.to_numeric(df[\"Strike_Rate\"].str.replace('-', ''), errors=\"coerce\").fillna(0.00)"
   ]
  },
  {
   "cell_type": "code",
   "execution_count": 8,
   "metadata": {},
   "outputs": [],
   "source": [
    "df[\"Strike_Rate\"] = df[\"Strike_Rate\"].astype(float)"
   ]
  },
  {
   "cell_type": "code",
   "execution_count": 9,
   "metadata": {},
   "outputs": [
    {
     "data": {
      "text/html": [
       "<div>\n",
       "<style scoped>\n",
       "    .dataframe tbody tr th:only-of-type {\n",
       "        vertical-align: middle;\n",
       "    }\n",
       "\n",
       "    .dataframe tbody tr th {\n",
       "        vertical-align: top;\n",
       "    }\n",
       "\n",
       "    .dataframe thead th {\n",
       "        text-align: right;\n",
       "    }\n",
       "</style>\n",
       "<table border=\"1\" class=\"dataframe\">\n",
       "  <thead>\n",
       "    <tr style=\"text-align: right;\">\n",
       "      <th></th>\n",
       "      <th>Match_no</th>\n",
       "      <th>Match_Between</th>\n",
       "      <th>Team_Innings</th>\n",
       "      <th>Batsman_Name</th>\n",
       "      <th>Batting_Position</th>\n",
       "      <th>Dismissal</th>\n",
       "      <th>Runs</th>\n",
       "      <th>Balls</th>\n",
       "      <th>4s</th>\n",
       "      <th>6s</th>\n",
       "      <th>Strike_Rate</th>\n",
       "    </tr>\n",
       "  </thead>\n",
       "  <tbody>\n",
       "    <tr>\n",
       "      <th>0</th>\n",
       "      <td>1</td>\n",
       "      <td>England vs New Zealand</td>\n",
       "      <td>England</td>\n",
       "      <td>Jonny Bairstow</td>\n",
       "      <td>1</td>\n",
       "      <td>c Daryl Mitchell b Mitchell Santner</td>\n",
       "      <td>33</td>\n",
       "      <td>35</td>\n",
       "      <td>4</td>\n",
       "      <td>1</td>\n",
       "      <td>94.3</td>\n",
       "    </tr>\n",
       "    <tr>\n",
       "      <th>1</th>\n",
       "      <td>1</td>\n",
       "      <td>England vs New Zealand</td>\n",
       "      <td>England</td>\n",
       "      <td>Dawid Malan</td>\n",
       "      <td>2</td>\n",
       "      <td>c Tom Latham b Matt Henry</td>\n",
       "      <td>14</td>\n",
       "      <td>24</td>\n",
       "      <td>2</td>\n",
       "      <td>0</td>\n",
       "      <td>58.3</td>\n",
       "    </tr>\n",
       "  </tbody>\n",
       "</table>\n",
       "</div>"
      ],
      "text/plain": [
       "   Match_no           Match_Between Team_Innings    Batsman_Name  \\\n",
       "0         1  England vs New Zealand      England  Jonny Bairstow   \n",
       "1         1  England vs New Zealand      England     Dawid Malan   \n",
       "\n",
       "   Batting_Position                            Dismissal  Runs  Balls  4s  6s  \\\n",
       "0                 1  c Daryl Mitchell b Mitchell Santner    33     35   4   1   \n",
       "1                 2            c Tom Latham b Matt Henry    14     24   2   0   \n",
       "\n",
       "   Strike_Rate  \n",
       "0         94.3  \n",
       "1         58.3  "
      ]
     },
     "execution_count": 9,
     "metadata": {},
     "output_type": "execute_result"
    }
   ],
   "source": [
    "df.head(2)"
   ]
  },
  {
   "cell_type": "code",
   "execution_count": 10,
   "metadata": {},
   "outputs": [],
   "source": [
    "# Sort dataframe based on Match_no & Batting_Position"
   ]
  },
  {
   "cell_type": "code",
   "execution_count": 11,
   "metadata": {},
   "outputs": [
    {
     "data": {
      "text/html": [
       "<div>\n",
       "<style scoped>\n",
       "    .dataframe tbody tr th:only-of-type {\n",
       "        vertical-align: middle;\n",
       "    }\n",
       "\n",
       "    .dataframe tbody tr th {\n",
       "        vertical-align: top;\n",
       "    }\n",
       "\n",
       "    .dataframe thead th {\n",
       "        text-align: right;\n",
       "    }\n",
       "</style>\n",
       "<table border=\"1\" class=\"dataframe\">\n",
       "  <thead>\n",
       "    <tr style=\"text-align: right;\">\n",
       "      <th></th>\n",
       "      <th>Match_no</th>\n",
       "      <th>Match_Between</th>\n",
       "      <th>Team_Innings</th>\n",
       "      <th>Batsman_Name</th>\n",
       "      <th>Batting_Position</th>\n",
       "      <th>Dismissal</th>\n",
       "      <th>Runs</th>\n",
       "      <th>Balls</th>\n",
       "      <th>4s</th>\n",
       "      <th>6s</th>\n",
       "      <th>Strike_Rate</th>\n",
       "    </tr>\n",
       "  </thead>\n",
       "  <tbody>\n",
       "    <tr>\n",
       "      <th>899</th>\n",
       "      <td>48</td>\n",
       "      <td>India vs Australia</td>\n",
       "      <td>India</td>\n",
       "      <td>Rohit Sharma</td>\n",
       "      <td>1</td>\n",
       "      <td>c Travis Head b Glenn Maxwell</td>\n",
       "      <td>47</td>\n",
       "      <td>31</td>\n",
       "      <td>4</td>\n",
       "      <td>3</td>\n",
       "      <td>151.613</td>\n",
       "    </tr>\n",
       "    <tr>\n",
       "      <th>910</th>\n",
       "      <td>48</td>\n",
       "      <td>India vs Australia</td>\n",
       "      <td>Australia</td>\n",
       "      <td>David Warner</td>\n",
       "      <td>1</td>\n",
       "      <td>c Virat Kohli b Mohammed Shami</td>\n",
       "      <td>7</td>\n",
       "      <td>3</td>\n",
       "      <td>1</td>\n",
       "      <td>0</td>\n",
       "      <td>233.333</td>\n",
       "    </tr>\n",
       "    <tr>\n",
       "      <th>900</th>\n",
       "      <td>48</td>\n",
       "      <td>India vs Australia</td>\n",
       "      <td>India</td>\n",
       "      <td>Shubman Gill</td>\n",
       "      <td>2</td>\n",
       "      <td>c Adam Zampa b Mitchell Starc</td>\n",
       "      <td>4</td>\n",
       "      <td>7</td>\n",
       "      <td>0</td>\n",
       "      <td>0</td>\n",
       "      <td>57.143</td>\n",
       "    </tr>\n",
       "    <tr>\n",
       "      <th>911</th>\n",
       "      <td>48</td>\n",
       "      <td>India vs Australia</td>\n",
       "      <td>Australia</td>\n",
       "      <td>Travis Head</td>\n",
       "      <td>2</td>\n",
       "      <td>c Shubman Gill b Mohammed Siraj</td>\n",
       "      <td>137</td>\n",
       "      <td>120</td>\n",
       "      <td>15</td>\n",
       "      <td>4</td>\n",
       "      <td>114.167</td>\n",
       "    </tr>\n",
       "    <tr>\n",
       "      <th>901</th>\n",
       "      <td>48</td>\n",
       "      <td>India vs Australia</td>\n",
       "      <td>India</td>\n",
       "      <td>Virat Kohli</td>\n",
       "      <td>3</td>\n",
       "      <td>b Pat Cummins</td>\n",
       "      <td>54</td>\n",
       "      <td>63</td>\n",
       "      <td>4</td>\n",
       "      <td>0</td>\n",
       "      <td>85.714</td>\n",
       "    </tr>\n",
       "  </tbody>\n",
       "</table>\n",
       "</div>"
      ],
      "text/plain": [
       "     Match_no       Match_Between Team_Innings  Batsman_Name  \\\n",
       "899        48  India vs Australia        India  Rohit Sharma   \n",
       "910        48  India vs Australia    Australia  David Warner   \n",
       "900        48  India vs Australia        India  Shubman Gill   \n",
       "911        48  India vs Australia    Australia   Travis Head   \n",
       "901        48  India vs Australia        India   Virat Kohli   \n",
       "\n",
       "     Batting_Position                        Dismissal  Runs  Balls  4s  6s  \\\n",
       "899                 1    c Travis Head b Glenn Maxwell    47     31   4   3   \n",
       "910                 1   c Virat Kohli b Mohammed Shami     7      3   1   0   \n",
       "900                 2    c Adam Zampa b Mitchell Starc     4      7   0   0   \n",
       "911                 2  c Shubman Gill b Mohammed Siraj   137    120  15   4   \n",
       "901                 3                    b Pat Cummins    54     63   4   0   \n",
       "\n",
       "     Strike_Rate  \n",
       "899      151.613  \n",
       "910      233.333  \n",
       "900       57.143  \n",
       "911      114.167  \n",
       "901       85.714  "
      ]
     },
     "execution_count": 11,
     "metadata": {},
     "output_type": "execute_result"
    }
   ],
   "source": [
    "df.sort_values(by=[\"Match_no\", \"Batting_Position\"], ascending=[False, True]).head(5)"
   ]
  },
  {
   "cell_type": "code",
   "execution_count": 12,
   "metadata": {},
   "outputs": [
    {
     "data": {
      "text/plain": [
       "Index(['Match_no', 'Match_Between', 'Team_Innings', 'Batsman_Name',\n",
       "       'Batting_Position', 'Dismissal', 'Runs', 'Balls', '4s', '6s',\n",
       "       'Strike_Rate'],\n",
       "      dtype='object')"
      ]
     },
     "execution_count": 12,
     "metadata": {},
     "output_type": "execute_result"
    }
   ],
   "source": [
    "df.columns"
   ]
  },
  {
   "cell_type": "code",
   "execution_count": 13,
   "metadata": {},
   "outputs": [
    {
     "data": {
      "text/plain": [
       "Match_no              int64\n",
       "Match_Between        object\n",
       "Team_Innings         object\n",
       "Batsman_Name         object\n",
       "Batting_Position      int64\n",
       "Dismissal            object\n",
       "Runs                  int64\n",
       "Balls                 int64\n",
       "4s                    int64\n",
       "6s                    int64\n",
       "Strike_Rate         float64\n",
       "dtype: object"
      ]
     },
     "execution_count": 13,
     "metadata": {},
     "output_type": "execute_result"
    }
   ],
   "source": [
    "df.dtypes"
   ]
  },
  {
   "cell_type": "code",
   "execution_count": 14,
   "metadata": {},
   "outputs": [],
   "source": [
    "# Get the list of All unique matches"
   ]
  },
  {
   "cell_type": "code",
   "execution_count": 18,
   "metadata": {},
   "outputs": [
    {
     "data": {
      "text/html": [
       "<div>\n",
       "<style scoped>\n",
       "    .dataframe tbody tr th:only-of-type {\n",
       "        vertical-align: middle;\n",
       "    }\n",
       "\n",
       "    .dataframe tbody tr th {\n",
       "        vertical-align: top;\n",
       "    }\n",
       "\n",
       "    .dataframe thead th {\n",
       "        text-align: right;\n",
       "    }\n",
       "</style>\n",
       "<table border=\"1\" class=\"dataframe\">\n",
       "  <thead>\n",
       "    <tr style=\"text-align: right;\">\n",
       "      <th></th>\n",
       "      <th>Match_Between</th>\n",
       "    </tr>\n",
       "  </thead>\n",
       "  <tbody>\n",
       "    <tr>\n",
       "      <th>829</th>\n",
       "      <td>Bangladesh vs Australia</td>\n",
       "    </tr>\n",
       "    <tr>\n",
       "      <th>843</th>\n",
       "      <td>England vs Pakistan</td>\n",
       "    </tr>\n",
       "    <tr>\n",
       "      <th>865</th>\n",
       "      <td>India vs Netherlands</td>\n",
       "    </tr>\n",
       "    <tr>\n",
       "      <th>882</th>\n",
       "      <td>India vs New Zealand</td>\n",
       "    </tr>\n",
       "    <tr>\n",
       "      <th>899</th>\n",
       "      <td>India vs Australia</td>\n",
       "    </tr>\n",
       "  </tbody>\n",
       "</table>\n",
       "</div>"
      ],
      "text/plain": [
       "               Match_Between\n",
       "829  Bangladesh vs Australia\n",
       "843      England vs Pakistan\n",
       "865     India vs Netherlands\n",
       "882     India vs New Zealand\n",
       "899       India vs Australia"
      ]
     },
     "execution_count": 18,
     "metadata": {},
     "output_type": "execute_result"
    }
   ],
   "source": [
    "df[[\"Match_Between\"]].drop_duplicates().tail()"
   ]
  },
  {
   "cell_type": "code",
   "execution_count": 19,
   "metadata": {},
   "outputs": [],
   "source": [
    "# Add \"rank\" column based on existing column on dataframe"
   ]
  },
  {
   "cell_type": "code",
   "execution_count": 20,
   "metadata": {},
   "outputs": [],
   "source": [
    "df[\"Rank\"] = df[\"Match_no\"].rank(ascending=False).astype(int)"
   ]
  },
  {
   "cell_type": "code",
   "execution_count": 22,
   "metadata": {},
   "outputs": [
    {
     "data": {
      "text/html": [
       "<div>\n",
       "<style scoped>\n",
       "    .dataframe tbody tr th:only-of-type {\n",
       "        vertical-align: middle;\n",
       "    }\n",
       "\n",
       "    .dataframe tbody tr th {\n",
       "        vertical-align: top;\n",
       "    }\n",
       "\n",
       "    .dataframe thead th {\n",
       "        text-align: right;\n",
       "    }\n",
       "</style>\n",
       "<table border=\"1\" class=\"dataframe\">\n",
       "  <thead>\n",
       "    <tr style=\"text-align: right;\">\n",
       "      <th></th>\n",
       "      <th>Match_no</th>\n",
       "      <th>Match_Between</th>\n",
       "      <th>Team_Innings</th>\n",
       "      <th>Batsman_Name</th>\n",
       "      <th>Batting_Position</th>\n",
       "      <th>Dismissal</th>\n",
       "      <th>Runs</th>\n",
       "      <th>Balls</th>\n",
       "      <th>4s</th>\n",
       "      <th>6s</th>\n",
       "      <th>Strike_Rate</th>\n",
       "      <th>Rank</th>\n",
       "    </tr>\n",
       "  </thead>\n",
       "  <tbody>\n",
       "    <tr>\n",
       "      <th>0</th>\n",
       "      <td>1</td>\n",
       "      <td>England vs New Zealand</td>\n",
       "      <td>England</td>\n",
       "      <td>Jonny Bairstow</td>\n",
       "      <td>1</td>\n",
       "      <td>c Daryl Mitchell b Mitchell Santner</td>\n",
       "      <td>33</td>\n",
       "      <td>35</td>\n",
       "      <td>4</td>\n",
       "      <td>1</td>\n",
       "      <td>94.3</td>\n",
       "      <td>909</td>\n",
       "    </tr>\n",
       "    <tr>\n",
       "      <th>1</th>\n",
       "      <td>1</td>\n",
       "      <td>England vs New Zealand</td>\n",
       "      <td>England</td>\n",
       "      <td>Dawid Malan</td>\n",
       "      <td>2</td>\n",
       "      <td>c Tom Latham b Matt Henry</td>\n",
       "      <td>14</td>\n",
       "      <td>24</td>\n",
       "      <td>2</td>\n",
       "      <td>0</td>\n",
       "      <td>58.3</td>\n",
       "      <td>909</td>\n",
       "    </tr>\n",
       "  </tbody>\n",
       "</table>\n",
       "</div>"
      ],
      "text/plain": [
       "   Match_no           Match_Between Team_Innings    Batsman_Name  \\\n",
       "0         1  England vs New Zealand      England  Jonny Bairstow   \n",
       "1         1  England vs New Zealand      England     Dawid Malan   \n",
       "\n",
       "   Batting_Position                            Dismissal  Runs  Balls  4s  6s  \\\n",
       "0                 1  c Daryl Mitchell b Mitchell Santner    33     35   4   1   \n",
       "1                 2            c Tom Latham b Matt Henry    14     24   2   0   \n",
       "\n",
       "   Strike_Rate  Rank  \n",
       "0         94.3   909  \n",
       "1         58.3   909  "
      ]
     },
     "execution_count": 22,
     "metadata": {},
     "output_type": "execute_result"
    }
   ],
   "source": [
    "df.head(2)"
   ]
  },
  {
   "cell_type": "code",
   "execution_count": 23,
   "metadata": {},
   "outputs": [
    {
     "data": {
      "text/html": [
       "<div>\n",
       "<style scoped>\n",
       "    .dataframe tbody tr th:only-of-type {\n",
       "        vertical-align: middle;\n",
       "    }\n",
       "\n",
       "    .dataframe tbody tr th {\n",
       "        vertical-align: top;\n",
       "    }\n",
       "\n",
       "    .dataframe thead th {\n",
       "        text-align: right;\n",
       "    }\n",
       "</style>\n",
       "<table border=\"1\" class=\"dataframe\">\n",
       "  <thead>\n",
       "    <tr style=\"text-align: right;\">\n",
       "      <th></th>\n",
       "      <th>Match_no</th>\n",
       "      <th>Match_Between</th>\n",
       "      <th>Rank</th>\n",
       "    </tr>\n",
       "  </thead>\n",
       "  <tbody>\n",
       "    <tr>\n",
       "      <th>0</th>\n",
       "      <td>1</td>\n",
       "      <td>England vs New Zealand</td>\n",
       "      <td>909</td>\n",
       "    </tr>\n",
       "    <tr>\n",
       "      <th>14</th>\n",
       "      <td>2</td>\n",
       "      <td>Pakistan vs Netherlands</td>\n",
       "      <td>891</td>\n",
       "    </tr>\n",
       "    <tr>\n",
       "      <th>36</th>\n",
       "      <td>3</td>\n",
       "      <td>Afghanistan vs Bangladesh</td>\n",
       "      <td>872</td>\n",
       "    </tr>\n",
       "    <tr>\n",
       "      <th>53</th>\n",
       "      <td>4</td>\n",
       "      <td>South Africa vs Sri Lanka</td>\n",
       "      <td>854</td>\n",
       "    </tr>\n",
       "    <tr>\n",
       "      <th>71</th>\n",
       "      <td>5</td>\n",
       "      <td>Australia vs India</td>\n",
       "      <td>837</td>\n",
       "    </tr>\n",
       "  </tbody>\n",
       "</table>\n",
       "</div>"
      ],
      "text/plain": [
       "    Match_no              Match_Between  Rank\n",
       "0          1     England vs New Zealand   909\n",
       "14         2    Pakistan vs Netherlands   891\n",
       "36         3  Afghanistan vs Bangladesh   872\n",
       "53         4  South Africa vs Sri Lanka   854\n",
       "71         5         Australia vs India   837"
      ]
     },
     "execution_count": 23,
     "metadata": {},
     "output_type": "execute_result"
    }
   ],
   "source": [
    "df[[\"Match_no\", \"Match_Between\",\"Rank\"]].drop_duplicates().head()"
   ]
  },
  {
   "cell_type": "code",
   "execution_count": 24,
   "metadata": {},
   "outputs": [],
   "source": [
    "# Number of matches played by each team"
   ]
  },
  {
   "cell_type": "code",
   "execution_count": 25,
   "metadata": {},
   "outputs": [
    {
     "data": {
      "text/plain": [
       "Team_Innings\n",
       "Australia       11\n",
       "India           11\n",
       "New Zealand     10\n",
       "South Africa    10\n",
       "England          9\n",
       "Pakistan         9\n",
       "Netherlands      9\n",
       "Afghanistan      9\n",
       "Bangladesh       9\n",
       "Sri Lanka        9\n",
       "Name: count, dtype: int64"
      ]
     },
     "execution_count": 25,
     "metadata": {},
     "output_type": "execute_result"
    }
   ],
   "source": [
    "df[[\"Match_no\", \"Team_Innings\"]].drop_duplicates().Team_Innings.value_counts()"
   ]
  },
  {
   "cell_type": "code",
   "execution_count": 33,
   "metadata": {},
   "outputs": [
    {
     "data": {
      "text/html": [
       "<div>\n",
       "<style scoped>\n",
       "    .dataframe tbody tr th:only-of-type {\n",
       "        vertical-align: middle;\n",
       "    }\n",
       "\n",
       "    .dataframe tbody tr th {\n",
       "        vertical-align: top;\n",
       "    }\n",
       "\n",
       "    .dataframe thead th {\n",
       "        text-align: right;\n",
       "    }\n",
       "</style>\n",
       "<table border=\"1\" class=\"dataframe\">\n",
       "  <thead>\n",
       "    <tr style=\"text-align: right;\">\n",
       "      <th></th>\n",
       "      <th>Match_no</th>\n",
       "    </tr>\n",
       "    <tr>\n",
       "      <th>Team_Innings</th>\n",
       "      <th></th>\n",
       "    </tr>\n",
       "  </thead>\n",
       "  <tbody>\n",
       "    <tr>\n",
       "      <th>Afghanistan</th>\n",
       "      <td>9</td>\n",
       "    </tr>\n",
       "    <tr>\n",
       "      <th>Australia</th>\n",
       "      <td>11</td>\n",
       "    </tr>\n",
       "    <tr>\n",
       "      <th>Bangladesh</th>\n",
       "      <td>9</td>\n",
       "    </tr>\n",
       "    <tr>\n",
       "      <th>England</th>\n",
       "      <td>9</td>\n",
       "    </tr>\n",
       "    <tr>\n",
       "      <th>India</th>\n",
       "      <td>11</td>\n",
       "    </tr>\n",
       "    <tr>\n",
       "      <th>Netherlands</th>\n",
       "      <td>9</td>\n",
       "    </tr>\n",
       "    <tr>\n",
       "      <th>New Zealand</th>\n",
       "      <td>10</td>\n",
       "    </tr>\n",
       "    <tr>\n",
       "      <th>Pakistan</th>\n",
       "      <td>9</td>\n",
       "    </tr>\n",
       "    <tr>\n",
       "      <th>South Africa</th>\n",
       "      <td>10</td>\n",
       "    </tr>\n",
       "    <tr>\n",
       "      <th>Sri Lanka</th>\n",
       "      <td>9</td>\n",
       "    </tr>\n",
       "  </tbody>\n",
       "</table>\n",
       "</div>"
      ],
      "text/plain": [
       "              Match_no\n",
       "Team_Innings          \n",
       "Afghanistan          9\n",
       "Australia           11\n",
       "Bangladesh           9\n",
       "England              9\n",
       "India               11\n",
       "Netherlands          9\n",
       "New Zealand         10\n",
       "Pakistan             9\n",
       "South Africa        10\n",
       "Sri Lanka            9"
      ]
     },
     "execution_count": 33,
     "metadata": {},
     "output_type": "execute_result"
    }
   ],
   "source": [
    "df[[\"Match_no\", \"Team_Innings\"]].drop_duplicates().groupby([\"Team_Innings\"]).count()"
   ]
  },
  {
   "cell_type": "code",
   "execution_count": 35,
   "metadata": {},
   "outputs": [],
   "source": [
    "# Get the number of matches played by Team India"
   ]
  },
  {
   "cell_type": "code",
   "execution_count": 39,
   "metadata": {},
   "outputs": [],
   "source": [
    "df_grp = df[[\"Match_no\",\"Match_Between\",\"Team_Innings\"]].drop_duplicates().groupby([\"Team_Innings\"])"
   ]
  },
  {
   "cell_type": "code",
   "execution_count": 45,
   "metadata": {},
   "outputs": [
    {
     "data": {
      "text/html": [
       "<div>\n",
       "<style scoped>\n",
       "    .dataframe tbody tr th:only-of-type {\n",
       "        vertical-align: middle;\n",
       "    }\n",
       "\n",
       "    .dataframe tbody tr th {\n",
       "        vertical-align: top;\n",
       "    }\n",
       "\n",
       "    .dataframe thead th {\n",
       "        text-align: right;\n",
       "    }\n",
       "</style>\n",
       "<table border=\"1\" class=\"dataframe\">\n",
       "  <thead>\n",
       "    <tr style=\"text-align: right;\">\n",
       "      <th></th>\n",
       "      <th>Match_no</th>\n",
       "      <th>Match_Between</th>\n",
       "      <th>Team_Innings</th>\n",
       "    </tr>\n",
       "  </thead>\n",
       "  <tbody>\n",
       "    <tr>\n",
       "      <th>82</th>\n",
       "      <td>5</td>\n",
       "      <td>Australia vs India</td>\n",
       "      <td>India</td>\n",
       "    </tr>\n",
       "    <tr>\n",
       "      <th>156</th>\n",
       "      <td>9</td>\n",
       "      <td>Afghanistan vs India</td>\n",
       "      <td>India</td>\n",
       "    </tr>\n",
       "    <tr>\n",
       "      <th>267</th>\n",
       "      <td>12</td>\n",
       "      <td>Pakistan vs India</td>\n",
       "      <td>India</td>\n",
       "    </tr>\n",
       "    <tr>\n",
       "      <th>362</th>\n",
       "      <td>17</td>\n",
       "      <td>Bangladesh vs India</td>\n",
       "      <td>India</td>\n",
       "    </tr>\n",
       "    <tr>\n",
       "      <th>438</th>\n",
       "      <td>21</td>\n",
       "      <td>New Zealand vs India</td>\n",
       "      <td>India</td>\n",
       "    </tr>\n",
       "    <tr>\n",
       "      <th>578</th>\n",
       "      <td>29</td>\n",
       "      <td>India vs England</td>\n",
       "      <td>India</td>\n",
       "    </tr>\n",
       "    <tr>\n",
       "      <th>648</th>\n",
       "      <td>33</td>\n",
       "      <td>India vs Sri Lanka</td>\n",
       "      <td>India</td>\n",
       "    </tr>\n",
       "    <tr>\n",
       "      <th>717</th>\n",
       "      <td>37</td>\n",
       "      <td>India vs South Africa</td>\n",
       "      <td>India</td>\n",
       "    </tr>\n",
       "    <tr>\n",
       "      <th>865</th>\n",
       "      <td>45</td>\n",
       "      <td>India vs Netherlands</td>\n",
       "      <td>India</td>\n",
       "    </tr>\n",
       "    <tr>\n",
       "      <th>882</th>\n",
       "      <td>46</td>\n",
       "      <td>India vs New Zealand</td>\n",
       "      <td>India</td>\n",
       "    </tr>\n",
       "    <tr>\n",
       "      <th>899</th>\n",
       "      <td>48</td>\n",
       "      <td>India vs Australia</td>\n",
       "      <td>India</td>\n",
       "    </tr>\n",
       "  </tbody>\n",
       "</table>\n",
       "</div>"
      ],
      "text/plain": [
       "     Match_no          Match_Between Team_Innings\n",
       "82          5     Australia vs India        India\n",
       "156         9   Afghanistan vs India        India\n",
       "267        12      Pakistan vs India        India\n",
       "362        17    Bangladesh vs India        India\n",
       "438        21   New Zealand vs India        India\n",
       "578        29       India vs England        India\n",
       "648        33     India vs Sri Lanka        India\n",
       "717        37  India vs South Africa        India\n",
       "865        45   India vs Netherlands        India\n",
       "882        46   India vs New Zealand        India\n",
       "899        48     India vs Australia        India"
      ]
     },
     "execution_count": 45,
     "metadata": {},
     "output_type": "execute_result"
    }
   ],
   "source": [
    "df_grp.get_group(\"India\")"
   ]
  },
  {
   "cell_type": "code",
   "execution_count": 46,
   "metadata": {},
   "outputs": [
    {
     "data": {
      "text/plain": [
       "11"
      ]
     },
     "execution_count": 46,
     "metadata": {},
     "output_type": "execute_result"
    }
   ],
   "source": [
    "df_grp.get_group(\"India\").Team_Innings.count()"
   ]
  },
  {
   "cell_type": "code",
   "execution_count": 47,
   "metadata": {},
   "outputs": [],
   "source": [
    "# Find Numebr of 4s and 6s hit by batsman"
   ]
  },
  {
   "cell_type": "code",
   "execution_count": 49,
   "metadata": {},
   "outputs": [],
   "source": [
    "df_4s = df[[\"Batsman_Name\",\"4s\"]].groupby([\"Batsman_Name\"])[\"4s\"].sum()\n",
    "df_6s = df[[\"Batsman_Name\",\"6s\"]].groupby([\"Batsman_Name\"])[\"6s\"].sum()"
   ]
  },
  {
   "cell_type": "code",
   "execution_count": 51,
   "metadata": {},
   "outputs": [
    {
     "data": {
      "text/plain": [
       "Batsman_Name\n",
       "Abdullah Shafique    36\n",
       "Adam Zampa            6\n",
       "Name: 4s, dtype: int64"
      ]
     },
     "execution_count": 51,
     "metadata": {},
     "output_type": "execute_result"
    }
   ],
   "source": [
    "df_4s.head(2)"
   ]
  },
  {
   "cell_type": "code",
   "execution_count": 52,
   "metadata": {},
   "outputs": [
    {
     "data": {
      "text/plain": [
       "Batsman_Name\n",
       "Wesley Barresi    1\n",
       "Will Young        6\n",
       "Name: 6s, dtype: int64"
      ]
     },
     "execution_count": 52,
     "metadata": {},
     "output_type": "execute_result"
    }
   ],
   "source": [
    "df_6s.tail(2)"
   ]
  },
  {
   "cell_type": "code",
   "execution_count": 56,
   "metadata": {},
   "outputs": [
    {
     "data": {
      "text/html": [
       "<div>\n",
       "<style scoped>\n",
       "    .dataframe tbody tr th:only-of-type {\n",
       "        vertical-align: middle;\n",
       "    }\n",
       "\n",
       "    .dataframe tbody tr th {\n",
       "        vertical-align: top;\n",
       "    }\n",
       "\n",
       "    .dataframe thead th {\n",
       "        text-align: right;\n",
       "    }\n",
       "</style>\n",
       "<table border=\"1\" class=\"dataframe\">\n",
       "  <thead>\n",
       "    <tr style=\"text-align: right;\">\n",
       "      <th></th>\n",
       "      <th>4s</th>\n",
       "      <th>6s</th>\n",
       "    </tr>\n",
       "    <tr>\n",
       "      <th>Batsman_Name</th>\n",
       "      <th></th>\n",
       "      <th></th>\n",
       "    </tr>\n",
       "  </thead>\n",
       "  <tbody>\n",
       "    <tr>\n",
       "      <th>Rohit Sharma</th>\n",
       "      <td>66</td>\n",
       "      <td>31</td>\n",
       "    </tr>\n",
       "    <tr>\n",
       "      <th>David Warner</th>\n",
       "      <td>53</td>\n",
       "      <td>28</td>\n",
       "    </tr>\n",
       "    <tr>\n",
       "      <th>Quinton de Kock</th>\n",
       "      <td>65</td>\n",
       "      <td>26</td>\n",
       "    </tr>\n",
       "    <tr>\n",
       "      <th>David Miller</th>\n",
       "      <td>34</td>\n",
       "      <td>26</td>\n",
       "    </tr>\n",
       "    <tr>\n",
       "      <th>Shreyas Iyer</th>\n",
       "      <td>37</td>\n",
       "      <td>24</td>\n",
       "    </tr>\n",
       "  </tbody>\n",
       "</table>\n",
       "</div>"
      ],
      "text/plain": [
       "                 4s  6s\n",
       "Batsman_Name           \n",
       "Rohit Sharma     66  31\n",
       "David Warner     53  28\n",
       "Quinton de Kock  65  26\n",
       "David Miller     34  26\n",
       "Shreyas Iyer     37  24"
      ]
     },
     "execution_count": 56,
     "metadata": {},
     "output_type": "execute_result"
    }
   ],
   "source": [
    "pd.concat([df_4s, df_6s], axis=1).sort_values(by=\"6s\", ascending=False).head()"
   ]
  },
  {
   "cell_type": "code",
   "execution_count": 57,
   "metadata": {},
   "outputs": [
    {
     "data": {
      "text/html": [
       "<div>\n",
       "<style scoped>\n",
       "    .dataframe tbody tr th:only-of-type {\n",
       "        vertical-align: middle;\n",
       "    }\n",
       "\n",
       "    .dataframe tbody tr th {\n",
       "        vertical-align: top;\n",
       "    }\n",
       "\n",
       "    .dataframe thead th {\n",
       "        text-align: right;\n",
       "    }\n",
       "</style>\n",
       "<table border=\"1\" class=\"dataframe\">\n",
       "  <thead>\n",
       "    <tr style=\"text-align: right;\">\n",
       "      <th></th>\n",
       "      <th>4s</th>\n",
       "      <th>6s</th>\n",
       "    </tr>\n",
       "    <tr>\n",
       "      <th>Batsman_Name</th>\n",
       "      <th></th>\n",
       "      <th></th>\n",
       "    </tr>\n",
       "  </thead>\n",
       "  <tbody>\n",
       "    <tr>\n",
       "      <th>Virat Kohli</th>\n",
       "      <td>68</td>\n",
       "      <td>9</td>\n",
       "    </tr>\n",
       "    <tr>\n",
       "      <th>Rohit Sharma</th>\n",
       "      <td>66</td>\n",
       "      <td>31</td>\n",
       "    </tr>\n",
       "    <tr>\n",
       "      <th>Quinton de Kock</th>\n",
       "      <td>65</td>\n",
       "      <td>26</td>\n",
       "    </tr>\n",
       "    <tr>\n",
       "      <th>Rachin Ravindra</th>\n",
       "      <td>55</td>\n",
       "      <td>17</td>\n",
       "    </tr>\n",
       "    <tr>\n",
       "      <th>Devon Conway</th>\n",
       "      <td>54</td>\n",
       "      <td>4</td>\n",
       "    </tr>\n",
       "  </tbody>\n",
       "</table>\n",
       "</div>"
      ],
      "text/plain": [
       "                 4s  6s\n",
       "Batsman_Name           \n",
       "Virat Kohli      68   9\n",
       "Rohit Sharma     66  31\n",
       "Quinton de Kock  65  26\n",
       "Rachin Ravindra  55  17\n",
       "Devon Conway     54   4"
      ]
     },
     "execution_count": 57,
     "metadata": {},
     "output_type": "execute_result"
    }
   ],
   "source": [
    "pd.concat([df_4s, df_6s], axis=1).sort_values(by=[\"4s\",\"6s\"], ascending=[False,False]).head()"
   ]
  },
  {
   "cell_type": "code",
   "execution_count": 58,
   "metadata": {},
   "outputs": [],
   "source": [
    "# Strike rate by Batsman_Name"
   ]
  },
  {
   "cell_type": "code",
   "execution_count": 59,
   "metadata": {},
   "outputs": [],
   "source": [
    "df_sr = df[[\"Batsman_Name\",\"Strike_Rate\"]].groupby([\"Batsman_Name\"]).mean(numeric_only=True)"
   ]
  },
  {
   "cell_type": "code",
   "execution_count": 60,
   "metadata": {},
   "outputs": [
    {
     "data": {
      "text/html": [
       "<div>\n",
       "<style scoped>\n",
       "    .dataframe tbody tr th:only-of-type {\n",
       "        vertical-align: middle;\n",
       "    }\n",
       "\n",
       "    .dataframe tbody tr th {\n",
       "        vertical-align: top;\n",
       "    }\n",
       "\n",
       "    .dataframe thead th {\n",
       "        text-align: right;\n",
       "    }\n",
       "</style>\n",
       "<table border=\"1\" class=\"dataframe\">\n",
       "  <thead>\n",
       "    <tr style=\"text-align: right;\">\n",
       "      <th></th>\n",
       "      <th>Strike_Rate</th>\n",
       "    </tr>\n",
       "    <tr>\n",
       "      <th>Batsman_Name</th>\n",
       "      <th></th>\n",
       "    </tr>\n",
       "  </thead>\n",
       "  <tbody>\n",
       "    <tr>\n",
       "      <th>Abdullah Shafique</th>\n",
       "      <td>71.388875</td>\n",
       "    </tr>\n",
       "    <tr>\n",
       "      <th>Adam Zampa</th>\n",
       "      <td>74.304571</td>\n",
       "    </tr>\n",
       "  </tbody>\n",
       "</table>\n",
       "</div>"
      ],
      "text/plain": [
       "                   Strike_Rate\n",
       "Batsman_Name                  \n",
       "Abdullah Shafique    71.388875\n",
       "Adam Zampa           74.304571"
      ]
     },
     "execution_count": 60,
     "metadata": {},
     "output_type": "execute_result"
    }
   ],
   "source": [
    "df_sr.head(2)"
   ]
  },
  {
   "cell_type": "code",
   "execution_count": 62,
   "metadata": {},
   "outputs": [
    {
     "data": {
      "text/html": [
       "<div>\n",
       "<style scoped>\n",
       "    .dataframe tbody tr th:only-of-type {\n",
       "        vertical-align: middle;\n",
       "    }\n",
       "\n",
       "    .dataframe tbody tr th {\n",
       "        vertical-align: top;\n",
       "    }\n",
       "\n",
       "    .dataframe thead th {\n",
       "        text-align: right;\n",
       "    }\n",
       "</style>\n",
       "<table border=\"1\" class=\"dataframe\">\n",
       "  <thead>\n",
       "    <tr style=\"text-align: right;\">\n",
       "      <th></th>\n",
       "      <th>Strike_Rate</th>\n",
       "    </tr>\n",
       "    <tr>\n",
       "      <th>Batsman_Name</th>\n",
       "      <th></th>\n",
       "    </tr>\n",
       "  </thead>\n",
       "  <tbody>\n",
       "    <tr>\n",
       "      <th>David Willey</th>\n",
       "      <td>163.932667</td>\n",
       "    </tr>\n",
       "    <tr>\n",
       "      <th>Aiden Markram</th>\n",
       "      <td>141.043000</td>\n",
       "    </tr>\n",
       "    <tr>\n",
       "      <th>Hardik Pandya</th>\n",
       "      <td>137.500000</td>\n",
       "    </tr>\n",
       "    <tr>\n",
       "      <th>Rohit Sharma</th>\n",
       "      <td>127.904091</td>\n",
       "    </tr>\n",
       "    <tr>\n",
       "      <th>Gus Atkinson</th>\n",
       "      <td>122.233333</td>\n",
       "    </tr>\n",
       "  </tbody>\n",
       "</table>\n",
       "</div>"
      ],
      "text/plain": [
       "               Strike_Rate\n",
       "Batsman_Name              \n",
       "David Willey    163.932667\n",
       "Aiden Markram   141.043000\n",
       "Hardik Pandya   137.500000\n",
       "Rohit Sharma    127.904091\n",
       "Gus Atkinson    122.233333"
      ]
     },
     "execution_count": 62,
     "metadata": {},
     "output_type": "execute_result"
    }
   ],
   "source": [
    "df_sr.sort_values(by=\"Strike_Rate\", ascending=False).head()"
   ]
  },
  {
   "cell_type": "code",
   "execution_count": null,
   "metadata": {},
   "outputs": [],
   "source": []
  },
  {
   "cell_type": "code",
   "execution_count": null,
   "metadata": {},
   "outputs": [],
   "source": []
  },
  {
   "cell_type": "code",
   "execution_count": 64,
   "metadata": {},
   "outputs": [],
   "source": [
    "# No of records in dataframe"
   ]
  },
  {
   "cell_type": "code",
   "execution_count": 65,
   "metadata": {},
   "outputs": [
    {
     "data": {
      "text/plain": [
       "RangeIndex(start=0, stop=916, step=1)"
      ]
     },
     "execution_count": 65,
     "metadata": {},
     "output_type": "execute_result"
    }
   ],
   "source": [
    "df.index"
   ]
  },
  {
   "cell_type": "code",
   "execution_count": 66,
   "metadata": {},
   "outputs": [
    {
     "data": {
      "text/plain": [
       "916"
      ]
     },
     "execution_count": 66,
     "metadata": {},
     "output_type": "execute_result"
    }
   ],
   "source": [
    "len(df.index)"
   ]
  },
  {
   "cell_type": "code",
   "execution_count": 68,
   "metadata": {},
   "outputs": [],
   "source": [
    "# Squeeze will squeeze single row dataframe into Series\n",
    "# Squeeze will squeeze series into scalars\n",
    "dfs = pd.read_csv(\"../data/batting_summary.csv\", usecols=[\"Team_Innings\"]).squeeze(axis=1)"
   ]
  },
  {
   "cell_type": "code",
   "execution_count": 70,
   "metadata": {},
   "outputs": [
    {
     "data": {
      "text/plain": [
       "0    England\n",
       "1    England\n",
       "2    England\n",
       "3    England\n",
       "Name: Team_Innings, dtype: object"
      ]
     },
     "execution_count": 70,
     "metadata": {},
     "output_type": "execute_result"
    }
   ],
   "source": [
    "dfs.head(4)"
   ]
  },
  {
   "cell_type": "code",
   "execution_count": 71,
   "metadata": {},
   "outputs": [],
   "source": [
    "def check_india(ind):\n",
    "\tif ind == \"India\":\n",
    "\t\treturn True\n",
    "\telse:\n",
    "\t\treturn False"
   ]
  },
  {
   "cell_type": "code",
   "execution_count": 72,
   "metadata": {},
   "outputs": [
    {
     "data": {
      "text/plain": [
       "True"
      ]
     },
     "execution_count": 72,
     "metadata": {},
     "output_type": "execute_result"
    }
   ],
   "source": [
    "check_india(\"India\")"
   ]
  },
  {
   "cell_type": "code",
   "execution_count": 80,
   "metadata": {},
   "outputs": [
    {
     "data": {
      "text/plain": [
       "0    False\n",
       "1    False\n",
       "2    False\n",
       "3    False\n",
       "4    False\n",
       "Name: Team_Innings, dtype: bool"
      ]
     },
     "execution_count": 80,
     "metadata": {},
     "output_type": "execute_result"
    }
   ],
   "source": [
    "dfs.apply(check_india).head()"
   ]
  },
  {
   "cell_type": "code",
   "execution_count": 81,
   "metadata": {},
   "outputs": [],
   "source": [
    "# Get all innings by Rohit"
   ]
  },
  {
   "cell_type": "code",
   "execution_count": 83,
   "metadata": {
    "scrolled": true
   },
   "outputs": [
    {
     "data": {
      "text/html": [
       "<div>\n",
       "<style scoped>\n",
       "    .dataframe tbody tr th:only-of-type {\n",
       "        vertical-align: middle;\n",
       "    }\n",
       "\n",
       "    .dataframe tbody tr th {\n",
       "        vertical-align: top;\n",
       "    }\n",
       "\n",
       "    .dataframe thead th {\n",
       "        text-align: right;\n",
       "    }\n",
       "</style>\n",
       "<table border=\"1\" class=\"dataframe\">\n",
       "  <thead>\n",
       "    <tr style=\"text-align: right;\">\n",
       "      <th></th>\n",
       "      <th>Match_no</th>\n",
       "      <th>Match_Between</th>\n",
       "      <th>Team_Innings</th>\n",
       "      <th>Batsman_Name</th>\n",
       "      <th>Batting_Position</th>\n",
       "      <th>Dismissal</th>\n",
       "      <th>Runs</th>\n",
       "      <th>Balls</th>\n",
       "      <th>4s</th>\n",
       "      <th>6s</th>\n",
       "      <th>Strike_Rate</th>\n",
       "      <th>Rank</th>\n",
       "    </tr>\n",
       "  </thead>\n",
       "  <tbody>\n",
       "    <tr>\n",
       "      <th>82</th>\n",
       "      <td>5</td>\n",
       "      <td>Australia vs India</td>\n",
       "      <td>India</td>\n",
       "      <td>Rohit Sharma</td>\n",
       "      <td>1</td>\n",
       "      <td>lbw b Josh Hazlewood</td>\n",
       "      <td>0</td>\n",
       "      <td>6</td>\n",
       "      <td>0</td>\n",
       "      <td>0</td>\n",
       "      <td>0.0</td>\n",
       "      <td>837</td>\n",
       "    </tr>\n",
       "    <tr>\n",
       "      <th>156</th>\n",
       "      <td>9</td>\n",
       "      <td>Afghanistan vs India</td>\n",
       "      <td>India</td>\n",
       "      <td>Rohit Sharma</td>\n",
       "      <td>1</td>\n",
       "      <td>b Rashid Khan</td>\n",
       "      <td>131</td>\n",
       "      <td>84</td>\n",
       "      <td>16</td>\n",
       "      <td>5</td>\n",
       "      <td>156.0</td>\n",
       "      <td>763</td>\n",
       "    </tr>\n",
       "    <tr>\n",
       "      <th>267</th>\n",
       "      <td>12</td>\n",
       "      <td>Pakistan vs India</td>\n",
       "      <td>India</td>\n",
       "      <td>Rohit Sharma</td>\n",
       "      <td>1</td>\n",
       "      <td>c Iftikhar Ahmed b Shaheen Afridi</td>\n",
       "      <td>86</td>\n",
       "      <td>63</td>\n",
       "      <td>6</td>\n",
       "      <td>6</td>\n",
       "      <td>136.5</td>\n",
       "      <td>692</td>\n",
       "    </tr>\n",
       "    <tr>\n",
       "      <th>362</th>\n",
       "      <td>17</td>\n",
       "      <td>Bangladesh vs India</td>\n",
       "      <td>India</td>\n",
       "      <td>Rohit Sharma</td>\n",
       "      <td>1</td>\n",
       "      <td>c Towhid Hridoy b Hasan Mahmud</td>\n",
       "      <td>48</td>\n",
       "      <td>40</td>\n",
       "      <td>7</td>\n",
       "      <td>2</td>\n",
       "      <td>120.0</td>\n",
       "      <td>597</td>\n",
       "    </tr>\n",
       "    <tr>\n",
       "      <th>438</th>\n",
       "      <td>21</td>\n",
       "      <td>New Zealand vs India</td>\n",
       "      <td>India</td>\n",
       "      <td>Rohit Sharma</td>\n",
       "      <td>1</td>\n",
       "      <td>b Lockie Ferguson</td>\n",
       "      <td>46</td>\n",
       "      <td>40</td>\n",
       "      <td>4</td>\n",
       "      <td>4</td>\n",
       "      <td>115.0</td>\n",
       "      <td>520</td>\n",
       "    </tr>\n",
       "  </tbody>\n",
       "</table>\n",
       "</div>"
      ],
      "text/plain": [
       "     Match_no         Match_Between Team_Innings  Batsman_Name  \\\n",
       "82          5    Australia vs India        India  Rohit Sharma   \n",
       "156         9  Afghanistan vs India        India  Rohit Sharma   \n",
       "267        12     Pakistan vs India        India  Rohit Sharma   \n",
       "362        17   Bangladesh vs India        India  Rohit Sharma   \n",
       "438        21  New Zealand vs India        India  Rohit Sharma   \n",
       "\n",
       "     Batting_Position                          Dismissal  Runs  Balls  4s  6s  \\\n",
       "82                  1               lbw b Josh Hazlewood     0      6   0   0   \n",
       "156                 1                      b Rashid Khan   131     84  16   5   \n",
       "267                 1  c Iftikhar Ahmed b Shaheen Afridi    86     63   6   6   \n",
       "362                 1     c Towhid Hridoy b Hasan Mahmud    48     40   7   2   \n",
       "438                 1                  b Lockie Ferguson    46     40   4   4   \n",
       "\n",
       "     Strike_Rate  Rank  \n",
       "82           0.0   837  \n",
       "156        156.0   763  \n",
       "267        136.5   692  \n",
       "362        120.0   597  \n",
       "438        115.0   520  "
      ]
     },
     "execution_count": 83,
     "metadata": {},
     "output_type": "execute_result"
    }
   ],
   "source": [
    "df[df[\"Batsman_Name\"] == \"Rohit Sharma\"].head()"
   ]
  },
  {
   "cell_type": "code",
   "execution_count": 89,
   "metadata": {},
   "outputs": [],
   "source": [
    "# Get all batsman who scored 100 or more"
   ]
  },
  {
   "cell_type": "code",
   "execution_count": 90,
   "metadata": {},
   "outputs": [
    {
     "data": {
      "text/html": [
       "<div>\n",
       "<style scoped>\n",
       "    .dataframe tbody tr th:only-of-type {\n",
       "        vertical-align: middle;\n",
       "    }\n",
       "\n",
       "    .dataframe tbody tr th {\n",
       "        vertical-align: top;\n",
       "    }\n",
       "\n",
       "    .dataframe thead th {\n",
       "        text-align: right;\n",
       "    }\n",
       "</style>\n",
       "<table border=\"1\" class=\"dataframe\">\n",
       "  <thead>\n",
       "    <tr style=\"text-align: right;\">\n",
       "      <th></th>\n",
       "      <th>Batsman_Name</th>\n",
       "      <th>Runs</th>\n",
       "    </tr>\n",
       "  </thead>\n",
       "  <tbody>\n",
       "    <tr>\n",
       "      <th>11</th>\n",
       "      <td>Devon Conway</td>\n",
       "      <td>152</td>\n",
       "    </tr>\n",
       "    <tr>\n",
       "      <th>13</th>\n",
       "      <td>Rachin Ravindra</td>\n",
       "      <td>123</td>\n",
       "    </tr>\n",
       "    <tr>\n",
       "      <th>53</th>\n",
       "      <td>Quinton de Kock</td>\n",
       "      <td>100</td>\n",
       "    </tr>\n",
       "    <tr>\n",
       "      <th>55</th>\n",
       "      <td>Rassie van der Dussen</td>\n",
       "      <td>108</td>\n",
       "    </tr>\n",
       "    <tr>\n",
       "      <th>56</th>\n",
       "      <td>Aiden Markram</td>\n",
       "      <td>106</td>\n",
       "    </tr>\n",
       "  </tbody>\n",
       "</table>\n",
       "</div>"
      ],
      "text/plain": [
       "             Batsman_Name  Runs\n",
       "11           Devon Conway   152\n",
       "13        Rachin Ravindra   123\n",
       "53        Quinton de Kock   100\n",
       "55  Rassie van der Dussen   108\n",
       "56          Aiden Markram   106"
      ]
     },
     "execution_count": 90,
     "metadata": {},
     "output_type": "execute_result"
    }
   ],
   "source": [
    "df[df[\"Runs\"] >= 100][[\"Batsman_Name\",\"Runs\"]].head()"
   ]
  },
  {
   "cell_type": "code",
   "execution_count": null,
   "metadata": {},
   "outputs": [],
   "source": []
  }
 ],
 "metadata": {
  "kernelspec": {
   "display_name": "Python 3",
   "language": "python",
   "name": "python3"
  },
  "language_info": {
   "codemirror_mode": {
    "name": "ipython",
    "version": 3
   },
   "file_extension": ".py",
   "mimetype": "text/x-python",
   "name": "python",
   "nbconvert_exporter": "python",
   "pygments_lexer": "ipython3",
   "version": "3.8.10"
  }
 },
 "nbformat": 4,
 "nbformat_minor": 4
}
