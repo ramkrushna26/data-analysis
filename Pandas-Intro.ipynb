{
 "cells": [
  {
   "cell_type": "code",
   "execution_count": 17,
   "id": "449b2fe6",
   "metadata": {},
   "outputs": [
    {
     "data": {
      "text/plain": [
       "'PANDAS SERIES'"
      ]
     },
     "execution_count": 17,
     "metadata": {},
     "output_type": "execute_result"
    }
   ],
   "source": [
    "'''PANDAS INTRO'''"
   ]
  },
  {
   "cell_type": "code",
   "execution_count": 12,
   "id": "7a41e8f1",
   "metadata": {},
   "outputs": [],
   "source": [
    "ice_cream = [['s', 'a' ], 'd', (12)]"
   ]
  },
  {
   "cell_type": "code",
   "execution_count": 11,
   "id": "788ee3ea",
   "metadata": {},
   "outputs": [],
   "source": [
    "import pandas as pd"
   ]
  },
  {
   "cell_type": "code",
   "execution_count": 13,
   "id": "264fa60e",
   "metadata": {},
   "outputs": [
    {
     "data": {
      "text/plain": [
       "0    [s, a]\n",
       "1         d\n",
       "2        12\n",
       "dtype: object"
      ]
     },
     "execution_count": 13,
     "metadata": {},
     "output_type": "execute_result"
    }
   ],
   "source": [
    "pd.Series(ice_cream)"
   ]
  },
  {
   "cell_type": "code",
   "execution_count": 5,
   "id": "5dde37db",
   "metadata": {},
   "outputs": [
    {
     "data": {
      "text/plain": [
       "list"
      ]
     },
     "execution_count": 5,
     "metadata": {},
     "output_type": "execute_result"
    }
   ],
   "source": [
    "type(ice_cream)"
   ]
  },
  {
   "cell_type": "code",
   "execution_count": 14,
   "id": "f8c8b1ee",
   "metadata": {},
   "outputs": [],
   "source": [
    "reg = [True, False, False, True]"
   ]
  },
  {
   "cell_type": "code",
   "execution_count": 15,
   "id": "202c2f99",
   "metadata": {},
   "outputs": [
    {
     "data": {
      "text/plain": [
       "0     True\n",
       "1    False\n",
       "2    False\n",
       "3     True\n",
       "dtype: bool"
      ]
     },
     "execution_count": 15,
     "metadata": {},
     "output_type": "execute_result"
    }
   ],
   "source": [
    "pd.Series(reg)"
   ]
  },
  {
   "cell_type": "code",
   "execution_count": 18,
   "id": "0ed6bb1e",
   "metadata": {},
   "outputs": [],
   "source": [
    "fruits = {\n",
    "    'car': 'Ferrari',\n",
    "    'bike': 'HOnda'\n",
    "}"
   ]
  },
  {
   "cell_type": "code",
   "execution_count": 19,
   "id": "81dd6bdc",
   "metadata": {},
   "outputs": [
    {
     "data": {
      "text/plain": [
       "car     Ferrari\n",
       "bike      HOnda\n",
       "dtype: object"
      ]
     },
     "execution_count": 19,
     "metadata": {},
     "output_type": "execute_result"
    }
   ],
   "source": [
    "pd.Series(fruits)"
   ]
  },
  {
   "cell_type": "code",
   "execution_count": 20,
   "id": "dfc29fd3",
   "metadata": {},
   "outputs": [],
   "source": [
    "num = [2, 4, 5 , 5]"
   ]
  },
  {
   "cell_type": "code",
   "execution_count": 22,
   "id": "8869507c",
   "metadata": {},
   "outputs": [],
   "source": [
    "num_s = pd.Series(num)"
   ]
  },
  {
   "cell_type": "code",
   "execution_count": 23,
   "id": "eedc3a89",
   "metadata": {},
   "outputs": [
    {
     "data": {
      "text/plain": [
       "16"
      ]
     },
     "execution_count": 23,
     "metadata": {},
     "output_type": "execute_result"
    }
   ],
   "source": [
    "num_s.sum()"
   ]
  },
  {
   "cell_type": "code",
   "execution_count": null,
   "id": "5acd08c5",
   "metadata": {},
   "outputs": [],
   "source": []
  }
 ],
 "metadata": {
  "kernelspec": {
   "display_name": "Python 3 (ipykernel)",
   "language": "python",
   "name": "python3"
  },
  "language_info": {
   "codemirror_mode": {
    "name": "ipython",
    "version": 3
   },
   "file_extension": ".py",
   "mimetype": "text/x-python",
   "name": "python",
   "nbconvert_exporter": "python",
   "pygments_lexer": "ipython3",
   "version": "3.8.10"
  }
 },
 "nbformat": 4,
 "nbformat_minor": 5
}
