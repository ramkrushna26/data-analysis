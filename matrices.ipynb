{
 "cells": [
  {
   "cell_type": "code",
   "execution_count": 1,
   "id": "290cc1bb",
   "metadata": {},
   "outputs": [],
   "source": [
    "import numpy as np"
   ]
  },
  {
   "cell_type": "code",
   "execution_count": 2,
   "id": "c3cba86e",
   "metadata": {},
   "outputs": [],
   "source": [
    "A = np.array([[1,-1,1,3],[2,1,8,18],[4,2,-3,-2]])"
   ]
  },
  {
   "cell_type": "code",
   "execution_count": 3,
   "id": "b680bc93",
   "metadata": {},
   "outputs": [
    {
     "data": {
      "text/plain": [
       "array([[ 1, -1,  1,  3],\n",
       "       [ 2,  1,  8, 18],\n",
       "       [ 4,  2, -3, -2]])"
      ]
     },
     "execution_count": 3,
     "metadata": {},
     "output_type": "execute_result"
    }
   ],
   "source": [
    "A"
   ]
  },
  {
   "cell_type": "code",
   "execution_count": 4,
   "id": "3e3205b4",
   "metadata": {},
   "outputs": [
    {
     "data": {
      "text/plain": [
       "array([[ 1,  2,  4],\n",
       "       [-1,  1,  2],\n",
       "       [ 1,  8, -3],\n",
       "       [ 3, 18, -2]])"
      ]
     },
     "execution_count": 4,
     "metadata": {},
     "output_type": "execute_result"
    }
   ],
   "source": [
    "A.transpose()"
   ]
  },
  {
   "cell_type": "code",
   "execution_count": 6,
   "id": "ba800388",
   "metadata": {},
   "outputs": [],
   "source": [
    "I4 = np.eye(4)"
   ]
  },
  {
   "cell_type": "code",
   "execution_count": 7,
   "id": "71a7acdb",
   "metadata": {},
   "outputs": [
    {
     "data": {
      "text/plain": [
       "array([[1., 0., 0., 0.],\n",
       "       [0., 1., 0., 0.],\n",
       "       [0., 0., 1., 0.],\n",
       "       [0., 0., 0., 1.]])"
      ]
     },
     "execution_count": 7,
     "metadata": {},
     "output_type": "execute_result"
    }
   ],
   "source": [
    "I4"
   ]
  },
  {
   "cell_type": "code",
   "execution_count": 10,
   "id": "26d2ef50",
   "metadata": {},
   "outputs": [],
   "source": [
    "r = np.random.randint(-10,50,size=(4,4))"
   ]
  },
  {
   "cell_type": "code",
   "execution_count": 11,
   "id": "bf43fa3e",
   "metadata": {},
   "outputs": [
    {
     "data": {
      "text/plain": [
       "array([[43, 26, 23, 15],\n",
       "       [42, 24, 15,  6],\n",
       "       [18, 14, 38, 37],\n",
       "       [18, -4, 28, -5]])"
      ]
     },
     "execution_count": 11,
     "metadata": {},
     "output_type": "execute_result"
    }
   ],
   "source": [
    "r"
   ]
  },
  {
   "cell_type": "code",
   "execution_count": null,
   "id": "43cb9811",
   "metadata": {},
   "outputs": [],
   "source": []
  }
 ],
 "metadata": {
  "kernelspec": {
   "display_name": "Python 3 (ipykernel)",
   "language": "python",
   "name": "python3"
  },
  "language_info": {
   "codemirror_mode": {
    "name": "ipython",
    "version": 3
   },
   "file_extension": ".py",
   "mimetype": "text/x-python",
   "name": "python",
   "nbconvert_exporter": "python",
   "pygments_lexer": "ipython3",
   "version": "3.10.4"
  }
 },
 "nbformat": 4,
 "nbformat_minor": 5
}
