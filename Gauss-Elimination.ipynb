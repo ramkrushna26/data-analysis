{
 "cells": [
  {
   "cell_type": "code",
   "execution_count": 3,
   "id": "59adcfcd",
   "metadata": {},
   "outputs": [],
   "source": [
    "import numpy as np"
   ]
  },
  {
   "cell_type": "code",
   "execution_count": 26,
   "id": "46798a6f",
   "metadata": {},
   "outputs": [],
   "source": [
    "B = np.array([[1,-1,1,3],[2,1,8,18],[4,2,-3,-2]])"
   ]
  },
  {
   "cell_type": "code",
   "execution_count": 27,
   "id": "edd12f4b",
   "metadata": {},
   "outputs": [
    {
     "data": {
      "text/plain": [
       "array([[ 1, -1,  1,  3],\n",
       "       [ 2,  1,  8, 18],\n",
       "       [ 4,  2, -3, -2]])"
      ]
     },
     "execution_count": 27,
     "metadata": {},
     "output_type": "execute_result"
    }
   ],
   "source": [
    "B"
   ]
  },
  {
   "cell_type": "code",
   "execution_count": 28,
   "id": "b2903bfa",
   "metadata": {},
   "outputs": [],
   "source": [
    "A = B.astype(np.float64)"
   ]
  },
  {
   "cell_type": "code",
   "execution_count": 29,
   "id": "70e028d5",
   "metadata": {},
   "outputs": [
    {
     "data": {
      "text/plain": [
       "array([[ 1., -1.,  1.,  3.],\n",
       "       [ 2.,  1.,  8., 18.],\n",
       "       [ 4.,  2., -3., -2.]])"
      ]
     },
     "execution_count": 29,
     "metadata": {},
     "output_type": "execute_result"
    }
   ],
   "source": [
    "A"
   ]
  },
  {
   "cell_type": "code",
   "execution_count": 30,
   "id": "a01d7854",
   "metadata": {},
   "outputs": [],
   "source": [
    "m = A.shape[0]"
   ]
  },
  {
   "cell_type": "code",
   "execution_count": 31,
   "id": "4d0175b5",
   "metadata": {},
   "outputs": [],
   "source": [
    "n = A.shape[1]"
   ]
  },
  {
   "cell_type": "code",
   "execution_count": 32,
   "id": "61c10f9d",
   "metadata": {},
   "outputs": [
    {
     "data": {
      "text/plain": [
       "(3, 4)"
      ]
     },
     "execution_count": 32,
     "metadata": {},
     "output_type": "execute_result"
    }
   ],
   "source": [
    "m, n"
   ]
  },
  {
   "cell_type": "code",
   "execution_count": 33,
   "id": "ccba50bf",
   "metadata": {},
   "outputs": [],
   "source": [
    "#Row Addition & Substraction Function"
   ]
  },
  {
   "cell_type": "code",
   "execution_count": 34,
   "id": "3b44c3db",
   "metadata": {},
   "outputs": [],
   "source": [
    "def row_add(A, n, row1, row2):\n",
    "    for i in range(n):\n",
    "        A[row1][i] += A[row2][i]\n",
    "    return A"
   ]
  },
  {
   "cell_type": "code",
   "execution_count": 35,
   "id": "8c7d720e",
   "metadata": {},
   "outputs": [],
   "source": [
    "def row_subtract(A, n, row1, row2):\n",
    "    for i in range(n):\n",
    "        A[row1][i] -= A[row2][i]\n",
    "    return A"
   ]
  },
  {
   "cell_type": "code",
   "execution_count": 36,
   "id": "d260e9ef",
   "metadata": {},
   "outputs": [],
   "source": [
    "#Scalar Mutliplication Function"
   ]
  },
  {
   "cell_type": "code",
   "execution_count": 37,
   "id": "f136086d",
   "metadata": {},
   "outputs": [],
   "source": [
    "def scalar_multiply(A, n, row, scalar):\n",
    "    for i in range(n):\n",
    "        A[row][i] *= scalar\n",
    "    return A"
   ]
  },
  {
   "cell_type": "code",
   "execution_count": 38,
   "id": "a5d66d94",
   "metadata": {},
   "outputs": [],
   "source": [
    "#Row Swapping Function"
   ]
  },
  {
   "cell_type": "code",
   "execution_count": 39,
   "id": "e5463226",
   "metadata": {},
   "outputs": [],
   "source": [
    "def row_swap(A, n, row1, row2):\n",
    "    for i in range(n):\n",
    "        temp = A[row1][i]\n",
    "        A[row1][i] = A[row2][i]\n",
    "        A[row2][i] = temp\n",
    "    return A"
   ]
  },
  {
   "cell_type": "code",
   "execution_count": 40,
   "id": "aac3c906",
   "metadata": {},
   "outputs": [
    {
     "data": {
      "text/plain": [
       "array([[ 1., -1.,  1.,  3.],\n",
       "       [ 2.,  1.,  8., 18.],\n",
       "       [ 4.,  2., -3., -2.]])"
      ]
     },
     "execution_count": 40,
     "metadata": {},
     "output_type": "execute_result"
    }
   ],
   "source": [
    "A"
   ]
  },
  {
   "cell_type": "code",
   "execution_count": 41,
   "id": "80029524",
   "metadata": {},
   "outputs": [],
   "source": [
    "A = scalar_multiply(A, n, 1, 2)"
   ]
  },
  {
   "cell_type": "code",
   "execution_count": 42,
   "id": "2a1c7d89",
   "metadata": {},
   "outputs": [
    {
     "data": {
      "text/plain": [
       "array([[ 1., -1.,  1.,  3.],\n",
       "       [ 4.,  2., 16., 36.],\n",
       "       [ 4.,  2., -3., -2.]])"
      ]
     },
     "execution_count": 42,
     "metadata": {},
     "output_type": "execute_result"
    }
   ],
   "source": [
    "A"
   ]
  },
  {
   "cell_type": "code",
   "execution_count": 43,
   "id": "afc4d228",
   "metadata": {},
   "outputs": [],
   "source": [
    "A = row_subtract(A, n, 2, 1)"
   ]
  },
  {
   "cell_type": "code",
   "execution_count": 44,
   "id": "2c7bb9b4",
   "metadata": {},
   "outputs": [
    {
     "data": {
      "text/plain": [
       "array([[  1.,  -1.,   1.,   3.],\n",
       "       [  4.,   2.,  16.,  36.],\n",
       "       [  0.,   0., -19., -38.]])"
      ]
     },
     "execution_count": 44,
     "metadata": {},
     "output_type": "execute_result"
    }
   ],
   "source": [
    "A"
   ]
  },
  {
   "cell_type": "code",
   "execution_count": 45,
   "id": "35d19d26",
   "metadata": {},
   "outputs": [],
   "source": [
    "A = scalar_multiply(A, n, 0, 4)"
   ]
  },
  {
   "cell_type": "code",
   "execution_count": 46,
   "id": "c951735c",
   "metadata": {},
   "outputs": [
    {
     "data": {
      "text/plain": [
       "array([[  4.,  -4.,   4.,  12.],\n",
       "       [  4.,   2.,  16.,  36.],\n",
       "       [  0.,   0., -19., -38.]])"
      ]
     },
     "execution_count": 46,
     "metadata": {},
     "output_type": "execute_result"
    }
   ],
   "source": [
    "A"
   ]
  },
  {
   "cell_type": "code",
   "execution_count": 47,
   "id": "cd1f91e5",
   "metadata": {},
   "outputs": [],
   "source": [
    "A = row_subtract(A, n, 1, 0)"
   ]
  },
  {
   "cell_type": "code",
   "execution_count": 48,
   "id": "b6fc7414",
   "metadata": {},
   "outputs": [
    {
     "data": {
      "text/plain": [
       "array([[  4.,  -4.,   4.,  12.],\n",
       "       [  0.,   6.,  12.,  24.],\n",
       "       [  0.,   0., -19., -38.]])"
      ]
     },
     "execution_count": 48,
     "metadata": {},
     "output_type": "execute_result"
    }
   ],
   "source": [
    "A"
   ]
  },
  {
   "cell_type": "code",
   "execution_count": 50,
   "id": "680584ea",
   "metadata": {},
   "outputs": [],
   "source": [
    "x3 = A[2][2] / A[2][3]"
   ]
  },
  {
   "cell_type": "code",
   "execution_count": 51,
   "id": "f14b42b0",
   "metadata": {},
   "outputs": [
    {
     "data": {
      "text/plain": [
       "0.5"
      ]
     },
     "execution_count": 51,
     "metadata": {},
     "output_type": "execute_result"
    }
   ],
   "source": [
    "x3"
   ]
  },
  {
   "cell_type": "code",
   "execution_count": 52,
   "id": "872ed1b2",
   "metadata": {},
   "outputs": [],
   "source": [
    "x2 = (A[1][3] - (A[1][2] * x3)) / A[1][1]"
   ]
  },
  {
   "cell_type": "code",
   "execution_count": 53,
   "id": "802ea203",
   "metadata": {},
   "outputs": [
    {
     "data": {
      "text/plain": [
       "3.0"
      ]
     },
     "execution_count": 53,
     "metadata": {},
     "output_type": "execute_result"
    }
   ],
   "source": [
    "x2"
   ]
  },
  {
   "cell_type": "code",
   "execution_count": 54,
   "id": "757f9e7c",
   "metadata": {},
   "outputs": [],
   "source": [
    "x1 = (A[0][3] - A[0][1] * x2 - A[0][2] * x3) / A[0][0]"
   ]
  },
  {
   "cell_type": "code",
   "execution_count": 55,
   "id": "8cdaecd8",
   "metadata": {},
   "outputs": [
    {
     "data": {
      "text/plain": [
       "5.5"
      ]
     },
     "execution_count": 55,
     "metadata": {},
     "output_type": "execute_result"
    }
   ],
   "source": [
    "x1"
   ]
  },
  {
   "cell_type": "code",
   "execution_count": null,
   "id": "96e2c127",
   "metadata": {},
   "outputs": [],
   "source": []
  }
 ],
 "metadata": {
  "kernelspec": {
   "display_name": "Python 3 (ipykernel)",
   "language": "python",
   "name": "python3"
  },
  "language_info": {
   "codemirror_mode": {
    "name": "ipython",
    "version": 3
   },
   "file_extension": ".py",
   "mimetype": "text/x-python",
   "name": "python",
   "nbconvert_exporter": "python",
   "pygments_lexer": "ipython3",
   "version": "3.10.4"
  }
 },
 "nbformat": 4,
 "nbformat_minor": 5
}
