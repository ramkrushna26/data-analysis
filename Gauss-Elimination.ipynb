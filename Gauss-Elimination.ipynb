{
 "cells": [
  {
   "cell_type": "code",
   "execution_count": 3,
   "id": "59adcfcd",
   "metadata": {},
   "outputs": [],
   "source": [
    "import numpy as np"
   ]
  },
  {
   "cell_type": "code",
   "execution_count": 64,
   "id": "46798a6f",
   "metadata": {},
   "outputs": [],
   "source": [
    "B = np.array([[1,-1,1,3],[2,1,8,18],[4,2,-3,-2]])"
   ]
  },
  {
   "cell_type": "code",
   "execution_count": 65,
   "id": "edd12f4b",
   "metadata": {},
   "outputs": [
    {
     "data": {
      "text/plain": [
       "array([[ 1, -1,  1,  3],\n",
       "       [ 2,  1,  8, 18],\n",
       "       [ 4,  2, -3, -2]])"
      ]
     },
     "execution_count": 65,
     "metadata": {},
     "output_type": "execute_result"
    }
   ],
   "source": [
    "B"
   ]
  },
  {
   "cell_type": "code",
   "execution_count": 66,
   "id": "b2903bfa",
   "metadata": {},
   "outputs": [],
   "source": [
    "A = B.astype(np.float64)"
   ]
  },
  {
   "cell_type": "code",
   "execution_count": 67,
   "id": "70e028d5",
   "metadata": {},
   "outputs": [
    {
     "data": {
      "text/plain": [
       "array([[ 1., -1.,  1.,  3.],\n",
       "       [ 2.,  1.,  8., 18.],\n",
       "       [ 4.,  2., -3., -2.]])"
      ]
     },
     "execution_count": 67,
     "metadata": {},
     "output_type": "execute_result"
    }
   ],
   "source": [
    "A"
   ]
  },
  {
   "cell_type": "code",
   "execution_count": 50,
   "id": "a01d7854",
   "metadata": {},
   "outputs": [],
   "source": [
    "m = A.shape[0]"
   ]
  },
  {
   "cell_type": "code",
   "execution_count": 51,
   "id": "4d0175b5",
   "metadata": {},
   "outputs": [],
   "source": [
    "n = A.shape[1]"
   ]
  },
  {
   "cell_type": "code",
   "execution_count": 52,
   "id": "61c10f9d",
   "metadata": {},
   "outputs": [
    {
     "data": {
      "text/plain": [
       "(3, 4)"
      ]
     },
     "execution_count": 52,
     "metadata": {},
     "output_type": "execute_result"
    }
   ],
   "source": [
    "m, n"
   ]
  },
  {
   "cell_type": "code",
   "execution_count": 53,
   "id": "ccba50bf",
   "metadata": {},
   "outputs": [],
   "source": [
    "#Row Addition & Substraction Function"
   ]
  },
  {
   "cell_type": "code",
   "execution_count": 68,
   "id": "3b44c3db",
   "metadata": {},
   "outputs": [],
   "source": [
    "def row_add(A, n, row1, row2):\n",
    "    for i in range(n):\n",
    "        A[row1][i] += A[row2][i]\n",
    "    return A"
   ]
  },
  {
   "cell_type": "code",
   "execution_count": 69,
   "id": "8c7d720e",
   "metadata": {},
   "outputs": [],
   "source": [
    "def row_subtract(A, n, row1, row2):\n",
    "    for i in range(n):\n",
    "        A[row1][i] -= A[row2][i]\n",
    "    return A"
   ]
  },
  {
   "cell_type": "code",
   "execution_count": 70,
   "id": "d260e9ef",
   "metadata": {},
   "outputs": [],
   "source": [
    "#Scalar Mutliplication Function"
   ]
  },
  {
   "cell_type": "code",
   "execution_count": 71,
   "id": "f136086d",
   "metadata": {},
   "outputs": [],
   "source": [
    "def scalar_multiply(A, n, row, scalar):\n",
    "    for i in range(n):\n",
    "        A[row][i] *= scalar\n",
    "    return A"
   ]
  },
  {
   "cell_type": "code",
   "execution_count": 72,
   "id": "a5d66d94",
   "metadata": {},
   "outputs": [],
   "source": [
    "#Row Swapping Function"
   ]
  },
  {
   "cell_type": "code",
   "execution_count": 73,
   "id": "e5463226",
   "metadata": {},
   "outputs": [],
   "source": [
    "def row_swap(A, n, row1, row2):\n",
    "    for i in range(n):\n",
    "        temp = A[row1][i]\n",
    "        A[row1][i] = A[row2][i]\n",
    "        A[row2][i] = temp\n",
    "    return A"
   ]
  },
  {
   "cell_type": "code",
   "execution_count": 74,
   "id": "aac3c906",
   "metadata": {},
   "outputs": [
    {
     "data": {
      "text/plain": [
       "array([[ 1., -1.,  1.,  3.],\n",
       "       [ 2.,  1.,  8., 18.],\n",
       "       [ 4.,  2., -3., -2.]])"
      ]
     },
     "execution_count": 74,
     "metadata": {},
     "output_type": "execute_result"
    }
   ],
   "source": [
    "A"
   ]
  },
  {
   "cell_type": "code",
   "execution_count": 75,
   "id": "80029524",
   "metadata": {},
   "outputs": [],
   "source": [
    "A = scalar_multiply(A, n, 1, 2)"
   ]
  },
  {
   "cell_type": "code",
   "execution_count": 76,
   "id": "2a1c7d89",
   "metadata": {},
   "outputs": [
    {
     "data": {
      "text/plain": [
       "array([[ 1., -1.,  1.,  3.],\n",
       "       [ 4.,  2., 16., 36.],\n",
       "       [ 4.,  2., -3., -2.]])"
      ]
     },
     "execution_count": 76,
     "metadata": {},
     "output_type": "execute_result"
    }
   ],
   "source": [
    "A"
   ]
  },
  {
   "cell_type": "code",
   "execution_count": 77,
   "id": "afc4d228",
   "metadata": {},
   "outputs": [],
   "source": [
    "A = row_subtract(A, n, 2, 1)"
   ]
  },
  {
   "cell_type": "code",
   "execution_count": 78,
   "id": "2c7bb9b4",
   "metadata": {},
   "outputs": [
    {
     "data": {
      "text/plain": [
       "array([[  1.,  -1.,   1.,   3.],\n",
       "       [  4.,   2.,  16.,  36.],\n",
       "       [  0.,   0., -19., -38.]])"
      ]
     },
     "execution_count": 78,
     "metadata": {},
     "output_type": "execute_result"
    }
   ],
   "source": [
    "A"
   ]
  },
  {
   "cell_type": "code",
   "execution_count": 80,
   "id": "35d19d26",
   "metadata": {},
   "outputs": [],
   "source": [
    "A = scalar_multiply(A, n, 0, 4)"
   ]
  },
  {
   "cell_type": "code",
   "execution_count": 81,
   "id": "c951735c",
   "metadata": {},
   "outputs": [
    {
     "data": {
      "text/plain": [
       "array([[  4.,  -4.,   4.,  12.],\n",
       "       [  4.,   2.,  16.,  36.],\n",
       "       [  0.,   0., -19., -38.]])"
      ]
     },
     "execution_count": 81,
     "metadata": {},
     "output_type": "execute_result"
    }
   ],
   "source": [
    "A"
   ]
  },
  {
   "cell_type": "code",
   "execution_count": 82,
   "id": "cd1f91e5",
   "metadata": {},
   "outputs": [],
   "source": [
    "A = row_subtract(A, n, 1, 0)"
   ]
  },
  {
   "cell_type": "code",
   "execution_count": 83,
   "id": "b6fc7414",
   "metadata": {},
   "outputs": [
    {
     "data": {
      "text/plain": [
       "array([[  4.,  -4.,   4.,  12.],\n",
       "       [  0.,   6.,  12.,  24.],\n",
       "       [  0.,   0., -19., -38.]])"
      ]
     },
     "execution_count": 83,
     "metadata": {},
     "output_type": "execute_result"
    }
   ],
   "source": [
    "A"
   ]
  },
  {
   "cell_type": "code",
   "execution_count": null,
   "id": "680584ea",
   "metadata": {},
   "outputs": [],
   "source": []
  }
 ],
 "metadata": {
  "kernelspec": {
   "display_name": "Python 3 (ipykernel)",
   "language": "python",
   "name": "python3"
  },
  "language_info": {
   "codemirror_mode": {
    "name": "ipython",
    "version": 3
   },
   "file_extension": ".py",
   "mimetype": "text/x-python",
   "name": "python",
   "nbconvert_exporter": "python",
   "pygments_lexer": "ipython3",
   "version": "3.10.4"
  }
 },
 "nbformat": 4,
 "nbformat_minor": 5
}
